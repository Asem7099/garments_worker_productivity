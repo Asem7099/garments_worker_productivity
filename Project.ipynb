{
 "cells": [
  {
   "cell_type": "code",
   "execution_count": 2498,
   "id": "89f877f9",
   "metadata": {},
   "outputs": [],
   "source": [
    "import pandas as pd"
   ]
  },
  {
   "cell_type": "code",
   "execution_count": 2499,
   "id": "213542fd",
   "metadata": {},
   "outputs": [],
   "source": [
    "import numpy as np"
   ]
  },
  {
   "cell_type": "code",
   "execution_count": 2500,
   "id": "930f813d",
   "metadata": {},
   "outputs": [],
   "source": [
    "import  matplotlib.pyplot as plt"
   ]
  },
  {
   "cell_type": "code",
   "execution_count": 2501,
   "id": "b435944b",
   "metadata": {},
   "outputs": [],
   "source": [
    "dataSet=pd.read_csv(\"garments_worker_productivity.csv\")"
   ]
  },
  {
   "cell_type": "code",
   "execution_count": 2502,
   "id": "412176e6",
   "metadata": {},
   "outputs": [],
   "source": [
    "dataSetOrign=dataSet.copy()"
   ]
  },
  {
   "cell_type": "code",
   "execution_count": 2503,
   "id": "260f0e6f",
   "metadata": {
    "scrolled": true
   },
   "outputs": [
    {
     "data": {
      "text/plain": [
       "date                     False\n",
       "quarter                  False\n",
       "department               False\n",
       "day                      False\n",
       "team                     False\n",
       "targeted_productivity    False\n",
       "smv                      False\n",
       "wip                       True\n",
       "over_time                False\n",
       "incentive                False\n",
       "idle_time                False\n",
       "idle_men                 False\n",
       "no_of_style_change       False\n",
       "no_of_workers            False\n",
       "actual_productivity      False\n",
       "dtype: bool"
      ]
     },
     "execution_count": 2503,
     "metadata": {},
     "output_type": "execute_result"
    }
   ],
   "source": [
    "dataSet.isna().any()"
   ]
  },
  {
   "cell_type": "code",
   "execution_count": 2504,
   "id": "e79b44b2",
   "metadata": {},
   "outputs": [
    {
     "data": {
      "text/plain": [
       "date                       0\n",
       "quarter                    0\n",
       "department                 0\n",
       "day                        0\n",
       "team                       0\n",
       "targeted_productivity      0\n",
       "smv                        0\n",
       "wip                      506\n",
       "over_time                  0\n",
       "incentive                  0\n",
       "idle_time                  0\n",
       "idle_men                   0\n",
       "no_of_style_change         0\n",
       "no_of_workers              0\n",
       "actual_productivity        0\n",
       "dtype: int64"
      ]
     },
     "execution_count": 2504,
     "metadata": {},
     "output_type": "execute_result"
    }
   ],
   "source": [
    "dataSet.isna().sum()"
   ]
  },
  {
   "cell_type": "code",
   "execution_count": 2505,
   "id": "1e8a7e7d",
   "metadata": {},
   "outputs": [],
   "source": [
    "dataSet['wip'].fillna(value=dataSet['wip'].mean() , inplace= True)"
   ]
  },
  {
   "cell_type": "code",
   "execution_count": 2506,
   "id": "599464d1",
   "metadata": {},
   "outputs": [
    {
     "data": {
      "text/plain": [
       "date                     0\n",
       "quarter                  0\n",
       "department               0\n",
       "day                      0\n",
       "team                     0\n",
       "targeted_productivity    0\n",
       "smv                      0\n",
       "wip                      0\n",
       "over_time                0\n",
       "incentive                0\n",
       "idle_time                0\n",
       "idle_men                 0\n",
       "no_of_style_change       0\n",
       "no_of_workers            0\n",
       "actual_productivity      0\n",
       "dtype: int64"
      ]
     },
     "execution_count": 2506,
     "metadata": {},
     "output_type": "execute_result"
    }
   ],
   "source": [
    "dataSet.isna().sum()"
   ]
  },
  {
   "cell_type": "code",
   "execution_count": 2507,
   "id": "e355a5fa",
   "metadata": {},
   "outputs": [
    {
     "name": "stdout",
     "output_type": "stream",
     "text": [
      "<class 'pandas.core.frame.DataFrame'>\n",
      "RangeIndex: 1197 entries, 0 to 1196\n",
      "Data columns (total 15 columns):\n",
      " #   Column                 Non-Null Count  Dtype  \n",
      "---  ------                 --------------  -----  \n",
      " 0   date                   1197 non-null   object \n",
      " 1   quarter                1197 non-null   object \n",
      " 2   department             1197 non-null   object \n",
      " 3   day                    1197 non-null   object \n",
      " 4   team                   1197 non-null   int64  \n",
      " 5   targeted_productivity  1197 non-null   float64\n",
      " 6   smv                    1197 non-null   float64\n",
      " 7   wip                    1197 non-null   float64\n",
      " 8   over_time              1197 non-null   int64  \n",
      " 9   incentive              1197 non-null   int64  \n",
      " 10  idle_time              1197 non-null   float64\n",
      " 11  idle_men               1197 non-null   int64  \n",
      " 12  no_of_style_change     1197 non-null   int64  \n",
      " 13  no_of_workers          1197 non-null   float64\n",
      " 14  actual_productivity    1197 non-null   float64\n",
      "dtypes: float64(6), int64(5), object(4)\n",
      "memory usage: 140.4+ KB\n"
     ]
    }
   ],
   "source": [
    "dataSet.info()"
   ]
  },
  {
   "cell_type": "code",
   "execution_count": 2508,
   "id": "c19ea327",
   "metadata": {},
   "outputs": [],
   "source": [
    "from sklearn.preprocessing import LabelEncoder\n",
    "encoder=LabelEncoder()"
   ]
  },
  {
   "cell_type": "code",
   "execution_count": 2509,
   "id": "54cb4bac",
   "metadata": {},
   "outputs": [
    {
     "data": {
      "text/html": [
       "<div>\n",
       "<style scoped>\n",
       "    .dataframe tbody tr th:only-of-type {\n",
       "        vertical-align: middle;\n",
       "    }\n",
       "\n",
       "    .dataframe tbody tr th {\n",
       "        vertical-align: top;\n",
       "    }\n",
       "\n",
       "    .dataframe thead th {\n",
       "        text-align: right;\n",
       "    }\n",
       "</style>\n",
       "<table border=\"1\" class=\"dataframe\">\n",
       "  <thead>\n",
       "    <tr style=\"text-align: right;\">\n",
       "      <th></th>\n",
       "      <th>date</th>\n",
       "      <th>quarter</th>\n",
       "      <th>department</th>\n",
       "      <th>day</th>\n",
       "      <th>team</th>\n",
       "      <th>targeted_productivity</th>\n",
       "      <th>smv</th>\n",
       "      <th>wip</th>\n",
       "      <th>over_time</th>\n",
       "      <th>incentive</th>\n",
       "      <th>idle_time</th>\n",
       "      <th>idle_men</th>\n",
       "      <th>no_of_style_change</th>\n",
       "      <th>no_of_workers</th>\n",
       "      <th>actual_productivity</th>\n",
       "    </tr>\n",
       "  </thead>\n",
       "  <tbody>\n",
       "    <tr>\n",
       "      <th>0</th>\n",
       "      <td>1/1/2015</td>\n",
       "      <td>Quarter1</td>\n",
       "      <td>sweing</td>\n",
       "      <td>Thursday</td>\n",
       "      <td>8</td>\n",
       "      <td>0.80</td>\n",
       "      <td>26.16</td>\n",
       "      <td>1108.000000</td>\n",
       "      <td>7080</td>\n",
       "      <td>98</td>\n",
       "      <td>0.0</td>\n",
       "      <td>0</td>\n",
       "      <td>0</td>\n",
       "      <td>59.0</td>\n",
       "      <td>0.940725</td>\n",
       "    </tr>\n",
       "    <tr>\n",
       "      <th>1</th>\n",
       "      <td>1/1/2015</td>\n",
       "      <td>Quarter1</td>\n",
       "      <td>finishing</td>\n",
       "      <td>Thursday</td>\n",
       "      <td>1</td>\n",
       "      <td>0.75</td>\n",
       "      <td>3.94</td>\n",
       "      <td>1190.465991</td>\n",
       "      <td>960</td>\n",
       "      <td>0</td>\n",
       "      <td>0.0</td>\n",
       "      <td>0</td>\n",
       "      <td>0</td>\n",
       "      <td>8.0</td>\n",
       "      <td>0.886500</td>\n",
       "    </tr>\n",
       "    <tr>\n",
       "      <th>2</th>\n",
       "      <td>1/1/2015</td>\n",
       "      <td>Quarter1</td>\n",
       "      <td>sweing</td>\n",
       "      <td>Thursday</td>\n",
       "      <td>11</td>\n",
       "      <td>0.80</td>\n",
       "      <td>11.41</td>\n",
       "      <td>968.000000</td>\n",
       "      <td>3660</td>\n",
       "      <td>50</td>\n",
       "      <td>0.0</td>\n",
       "      <td>0</td>\n",
       "      <td>0</td>\n",
       "      <td>30.5</td>\n",
       "      <td>0.800570</td>\n",
       "    </tr>\n",
       "    <tr>\n",
       "      <th>3</th>\n",
       "      <td>1/1/2015</td>\n",
       "      <td>Quarter1</td>\n",
       "      <td>sweing</td>\n",
       "      <td>Thursday</td>\n",
       "      <td>12</td>\n",
       "      <td>0.80</td>\n",
       "      <td>11.41</td>\n",
       "      <td>968.000000</td>\n",
       "      <td>3660</td>\n",
       "      <td>50</td>\n",
       "      <td>0.0</td>\n",
       "      <td>0</td>\n",
       "      <td>0</td>\n",
       "      <td>30.5</td>\n",
       "      <td>0.800570</td>\n",
       "    </tr>\n",
       "    <tr>\n",
       "      <th>4</th>\n",
       "      <td>1/1/2015</td>\n",
       "      <td>Quarter1</td>\n",
       "      <td>sweing</td>\n",
       "      <td>Thursday</td>\n",
       "      <td>6</td>\n",
       "      <td>0.80</td>\n",
       "      <td>25.90</td>\n",
       "      <td>1170.000000</td>\n",
       "      <td>1920</td>\n",
       "      <td>50</td>\n",
       "      <td>0.0</td>\n",
       "      <td>0</td>\n",
       "      <td>0</td>\n",
       "      <td>56.0</td>\n",
       "      <td>0.800382</td>\n",
       "    </tr>\n",
       "    <tr>\n",
       "      <th>5</th>\n",
       "      <td>1/1/2015</td>\n",
       "      <td>Quarter1</td>\n",
       "      <td>sweing</td>\n",
       "      <td>Thursday</td>\n",
       "      <td>7</td>\n",
       "      <td>0.80</td>\n",
       "      <td>25.90</td>\n",
       "      <td>984.000000</td>\n",
       "      <td>6720</td>\n",
       "      <td>38</td>\n",
       "      <td>0.0</td>\n",
       "      <td>0</td>\n",
       "      <td>0</td>\n",
       "      <td>56.0</td>\n",
       "      <td>0.800125</td>\n",
       "    </tr>\n",
       "    <tr>\n",
       "      <th>6</th>\n",
       "      <td>1/1/2015</td>\n",
       "      <td>Quarter1</td>\n",
       "      <td>finishing</td>\n",
       "      <td>Thursday</td>\n",
       "      <td>2</td>\n",
       "      <td>0.75</td>\n",
       "      <td>3.94</td>\n",
       "      <td>1190.465991</td>\n",
       "      <td>960</td>\n",
       "      <td>0</td>\n",
       "      <td>0.0</td>\n",
       "      <td>0</td>\n",
       "      <td>0</td>\n",
       "      <td>8.0</td>\n",
       "      <td>0.755167</td>\n",
       "    </tr>\n",
       "    <tr>\n",
       "      <th>7</th>\n",
       "      <td>1/1/2015</td>\n",
       "      <td>Quarter1</td>\n",
       "      <td>sweing</td>\n",
       "      <td>Thursday</td>\n",
       "      <td>3</td>\n",
       "      <td>0.75</td>\n",
       "      <td>28.08</td>\n",
       "      <td>795.000000</td>\n",
       "      <td>6900</td>\n",
       "      <td>45</td>\n",
       "      <td>0.0</td>\n",
       "      <td>0</td>\n",
       "      <td>0</td>\n",
       "      <td>57.5</td>\n",
       "      <td>0.753683</td>\n",
       "    </tr>\n",
       "    <tr>\n",
       "      <th>8</th>\n",
       "      <td>1/1/2015</td>\n",
       "      <td>Quarter1</td>\n",
       "      <td>sweing</td>\n",
       "      <td>Thursday</td>\n",
       "      <td>2</td>\n",
       "      <td>0.75</td>\n",
       "      <td>19.87</td>\n",
       "      <td>733.000000</td>\n",
       "      <td>6000</td>\n",
       "      <td>34</td>\n",
       "      <td>0.0</td>\n",
       "      <td>0</td>\n",
       "      <td>0</td>\n",
       "      <td>55.0</td>\n",
       "      <td>0.753098</td>\n",
       "    </tr>\n",
       "    <tr>\n",
       "      <th>9</th>\n",
       "      <td>1/1/2015</td>\n",
       "      <td>Quarter1</td>\n",
       "      <td>sweing</td>\n",
       "      <td>Thursday</td>\n",
       "      <td>1</td>\n",
       "      <td>0.75</td>\n",
       "      <td>28.08</td>\n",
       "      <td>681.000000</td>\n",
       "      <td>6900</td>\n",
       "      <td>45</td>\n",
       "      <td>0.0</td>\n",
       "      <td>0</td>\n",
       "      <td>0</td>\n",
       "      <td>57.5</td>\n",
       "      <td>0.750428</td>\n",
       "    </tr>\n",
       "  </tbody>\n",
       "</table>\n",
       "</div>"
      ],
      "text/plain": [
       "       date   quarter  department       day  team  targeted_productivity  \\\n",
       "0  1/1/2015  Quarter1      sweing  Thursday     8                   0.80   \n",
       "1  1/1/2015  Quarter1  finishing   Thursday     1                   0.75   \n",
       "2  1/1/2015  Quarter1      sweing  Thursday    11                   0.80   \n",
       "3  1/1/2015  Quarter1      sweing  Thursday    12                   0.80   \n",
       "4  1/1/2015  Quarter1      sweing  Thursday     6                   0.80   \n",
       "5  1/1/2015  Quarter1      sweing  Thursday     7                   0.80   \n",
       "6  1/1/2015  Quarter1  finishing   Thursday     2                   0.75   \n",
       "7  1/1/2015  Quarter1      sweing  Thursday     3                   0.75   \n",
       "8  1/1/2015  Quarter1      sweing  Thursday     2                   0.75   \n",
       "9  1/1/2015  Quarter1      sweing  Thursday     1                   0.75   \n",
       "\n",
       "     smv          wip  over_time  incentive  idle_time  idle_men  \\\n",
       "0  26.16  1108.000000       7080         98        0.0         0   \n",
       "1   3.94  1190.465991        960          0        0.0         0   \n",
       "2  11.41   968.000000       3660         50        0.0         0   \n",
       "3  11.41   968.000000       3660         50        0.0         0   \n",
       "4  25.90  1170.000000       1920         50        0.0         0   \n",
       "5  25.90   984.000000       6720         38        0.0         0   \n",
       "6   3.94  1190.465991        960          0        0.0         0   \n",
       "7  28.08   795.000000       6900         45        0.0         0   \n",
       "8  19.87   733.000000       6000         34        0.0         0   \n",
       "9  28.08   681.000000       6900         45        0.0         0   \n",
       "\n",
       "   no_of_style_change  no_of_workers  actual_productivity  \n",
       "0                   0           59.0             0.940725  \n",
       "1                   0            8.0             0.886500  \n",
       "2                   0           30.5             0.800570  \n",
       "3                   0           30.5             0.800570  \n",
       "4                   0           56.0             0.800382  \n",
       "5                   0           56.0             0.800125  \n",
       "6                   0            8.0             0.755167  \n",
       "7                   0           57.5             0.753683  \n",
       "8                   0           55.0             0.753098  \n",
       "9                   0           57.5             0.750428  "
      ]
     },
     "execution_count": 2509,
     "metadata": {},
     "output_type": "execute_result"
    }
   ],
   "source": [
    "dataSet.head(10)"
   ]
  },
  {
   "cell_type": "code",
   "execution_count": 2510,
   "id": "967a1fd3",
   "metadata": {},
   "outputs": [
    {
     "data": {
      "text/plain": [
       "array(['Quarter1', 'Quarter2', 'Quarter3', 'Quarter4', 'Quarter5'],\n",
       "      dtype=object)"
      ]
     },
     "execution_count": 2510,
     "metadata": {},
     "output_type": "execute_result"
    }
   ],
   "source": [
    "dataSet['quarter'].unique()"
   ]
  },
  {
   "cell_type": "code",
   "execution_count": 2511,
   "id": "a6c621d0",
   "metadata": {},
   "outputs": [],
   "source": [
    "qua_dec={'Quarter1':1, 'Quarter2':2, 'Quarter3':3, 'Quarter4':4, 'Quarter5':5 }"
   ]
  },
  {
   "cell_type": "code",
   "execution_count": 2512,
   "id": "c3507fc2",
   "metadata": {},
   "outputs": [],
   "source": [
    "dataSet['quarter']=dataSet['quarter'].map(qua_dec)"
   ]
  },
  {
   "cell_type": "code",
   "execution_count": 2513,
   "id": "9d554fdd",
   "metadata": {},
   "outputs": [],
   "source": [
    "day_dec={'Saturday':1, 'Sunday':2, 'Monday':3, 'Tuesday':4, 'Wednesday':5, 'Thursday':6 }"
   ]
  },
  {
   "cell_type": "code",
   "execution_count": 2514,
   "id": "d89c5ef0",
   "metadata": {},
   "outputs": [],
   "source": [
    "dataSet['day']=dataSet['day'].map(day_dec)"
   ]
  },
  {
   "cell_type": "code",
   "execution_count": 2515,
   "id": "b71010e9",
   "metadata": {},
   "outputs": [
    {
     "data": {
      "text/plain": [
       "array([6, 1, 2, 3, 4, 5], dtype=int64)"
      ]
     },
     "execution_count": 2515,
     "metadata": {},
     "output_type": "execute_result"
    }
   ],
   "source": [
    "dataSet[\"day\"].unique()"
   ]
  },
  {
   "cell_type": "code",
   "execution_count": 2516,
   "id": "39f81a05",
   "metadata": {},
   "outputs": [
    {
     "data": {
      "text/html": [
       "<div>\n",
       "<style scoped>\n",
       "    .dataframe tbody tr th:only-of-type {\n",
       "        vertical-align: middle;\n",
       "    }\n",
       "\n",
       "    .dataframe tbody tr th {\n",
       "        vertical-align: top;\n",
       "    }\n",
       "\n",
       "    .dataframe thead th {\n",
       "        text-align: right;\n",
       "    }\n",
       "</style>\n",
       "<table border=\"1\" class=\"dataframe\">\n",
       "  <thead>\n",
       "    <tr style=\"text-align: right;\">\n",
       "      <th></th>\n",
       "      <th>department_finishing</th>\n",
       "      <th>department_finishing</th>\n",
       "      <th>department_sweing</th>\n",
       "    </tr>\n",
       "  </thead>\n",
       "  <tbody>\n",
       "    <tr>\n",
       "      <th>0</th>\n",
       "      <td>0</td>\n",
       "      <td>0</td>\n",
       "      <td>1</td>\n",
       "    </tr>\n",
       "    <tr>\n",
       "      <th>1</th>\n",
       "      <td>0</td>\n",
       "      <td>1</td>\n",
       "      <td>0</td>\n",
       "    </tr>\n",
       "    <tr>\n",
       "      <th>2</th>\n",
       "      <td>0</td>\n",
       "      <td>0</td>\n",
       "      <td>1</td>\n",
       "    </tr>\n",
       "    <tr>\n",
       "      <th>3</th>\n",
       "      <td>0</td>\n",
       "      <td>0</td>\n",
       "      <td>1</td>\n",
       "    </tr>\n",
       "    <tr>\n",
       "      <th>4</th>\n",
       "      <td>0</td>\n",
       "      <td>0</td>\n",
       "      <td>1</td>\n",
       "    </tr>\n",
       "  </tbody>\n",
       "</table>\n",
       "</div>"
      ],
      "text/plain": [
       "   department_finishing  department_finishing   department_sweing\n",
       "0                     0                      0                  1\n",
       "1                     0                      1                  0\n",
       "2                     0                      0                  1\n",
       "3                     0                      0                  1\n",
       "4                     0                      0                  1"
      ]
     },
     "execution_count": 2516,
     "metadata": {},
     "output_type": "execute_result"
    }
   ],
   "source": [
    "dummy = pd.get_dummies(dataSet[\"department\"], prefix=\"department\")\n",
    "dummy.head()"
   ]
  },
  {
   "cell_type": "code",
   "execution_count": 2517,
   "id": "bcf1b596",
   "metadata": {},
   "outputs": [],
   "source": [
    "dataSet=pd.concat([dataSet,dummy] ,axis=1)"
   ]
  },
  {
   "cell_type": "code",
   "execution_count": 2518,
   "id": "f9aa625e",
   "metadata": {},
   "outputs": [],
   "source": [
    "dataSet=dataSet.drop(['department'] ,axis=1)"
   ]
  },
  {
   "cell_type": "code",
   "execution_count": 2519,
   "id": "649bc19d",
   "metadata": {},
   "outputs": [
    {
     "data": {
      "text/html": [
       "<div>\n",
       "<style scoped>\n",
       "    .dataframe tbody tr th:only-of-type {\n",
       "        vertical-align: middle;\n",
       "    }\n",
       "\n",
       "    .dataframe tbody tr th {\n",
       "        vertical-align: top;\n",
       "    }\n",
       "\n",
       "    .dataframe thead th {\n",
       "        text-align: right;\n",
       "    }\n",
       "</style>\n",
       "<table border=\"1\" class=\"dataframe\">\n",
       "  <thead>\n",
       "    <tr style=\"text-align: right;\">\n",
       "      <th></th>\n",
       "      <th>date</th>\n",
       "      <th>quarter</th>\n",
       "      <th>day</th>\n",
       "      <th>team</th>\n",
       "      <th>targeted_productivity</th>\n",
       "      <th>smv</th>\n",
       "      <th>wip</th>\n",
       "      <th>over_time</th>\n",
       "      <th>incentive</th>\n",
       "      <th>idle_time</th>\n",
       "      <th>idle_men</th>\n",
       "      <th>no_of_style_change</th>\n",
       "      <th>no_of_workers</th>\n",
       "      <th>actual_productivity</th>\n",
       "      <th>department_finishing</th>\n",
       "      <th>department_finishing</th>\n",
       "      <th>department_sweing</th>\n",
       "    </tr>\n",
       "  </thead>\n",
       "  <tbody>\n",
       "    <tr>\n",
       "      <th>0</th>\n",
       "      <td>1/1/2015</td>\n",
       "      <td>1</td>\n",
       "      <td>6</td>\n",
       "      <td>8</td>\n",
       "      <td>0.80</td>\n",
       "      <td>26.16</td>\n",
       "      <td>1108.000000</td>\n",
       "      <td>7080</td>\n",
       "      <td>98</td>\n",
       "      <td>0.0</td>\n",
       "      <td>0</td>\n",
       "      <td>0</td>\n",
       "      <td>59.0</td>\n",
       "      <td>0.940725</td>\n",
       "      <td>0</td>\n",
       "      <td>0</td>\n",
       "      <td>1</td>\n",
       "    </tr>\n",
       "    <tr>\n",
       "      <th>1</th>\n",
       "      <td>1/1/2015</td>\n",
       "      <td>1</td>\n",
       "      <td>6</td>\n",
       "      <td>1</td>\n",
       "      <td>0.75</td>\n",
       "      <td>3.94</td>\n",
       "      <td>1190.465991</td>\n",
       "      <td>960</td>\n",
       "      <td>0</td>\n",
       "      <td>0.0</td>\n",
       "      <td>0</td>\n",
       "      <td>0</td>\n",
       "      <td>8.0</td>\n",
       "      <td>0.886500</td>\n",
       "      <td>0</td>\n",
       "      <td>1</td>\n",
       "      <td>0</td>\n",
       "    </tr>\n",
       "    <tr>\n",
       "      <th>2</th>\n",
       "      <td>1/1/2015</td>\n",
       "      <td>1</td>\n",
       "      <td>6</td>\n",
       "      <td>11</td>\n",
       "      <td>0.80</td>\n",
       "      <td>11.41</td>\n",
       "      <td>968.000000</td>\n",
       "      <td>3660</td>\n",
       "      <td>50</td>\n",
       "      <td>0.0</td>\n",
       "      <td>0</td>\n",
       "      <td>0</td>\n",
       "      <td>30.5</td>\n",
       "      <td>0.800570</td>\n",
       "      <td>0</td>\n",
       "      <td>0</td>\n",
       "      <td>1</td>\n",
       "    </tr>\n",
       "    <tr>\n",
       "      <th>3</th>\n",
       "      <td>1/1/2015</td>\n",
       "      <td>1</td>\n",
       "      <td>6</td>\n",
       "      <td>12</td>\n",
       "      <td>0.80</td>\n",
       "      <td>11.41</td>\n",
       "      <td>968.000000</td>\n",
       "      <td>3660</td>\n",
       "      <td>50</td>\n",
       "      <td>0.0</td>\n",
       "      <td>0</td>\n",
       "      <td>0</td>\n",
       "      <td>30.5</td>\n",
       "      <td>0.800570</td>\n",
       "      <td>0</td>\n",
       "      <td>0</td>\n",
       "      <td>1</td>\n",
       "    </tr>\n",
       "    <tr>\n",
       "      <th>4</th>\n",
       "      <td>1/1/2015</td>\n",
       "      <td>1</td>\n",
       "      <td>6</td>\n",
       "      <td>6</td>\n",
       "      <td>0.80</td>\n",
       "      <td>25.90</td>\n",
       "      <td>1170.000000</td>\n",
       "      <td>1920</td>\n",
       "      <td>50</td>\n",
       "      <td>0.0</td>\n",
       "      <td>0</td>\n",
       "      <td>0</td>\n",
       "      <td>56.0</td>\n",
       "      <td>0.800382</td>\n",
       "      <td>0</td>\n",
       "      <td>0</td>\n",
       "      <td>1</td>\n",
       "    </tr>\n",
       "  </tbody>\n",
       "</table>\n",
       "</div>"
      ],
      "text/plain": [
       "       date  quarter  day  team  targeted_productivity    smv          wip  \\\n",
       "0  1/1/2015        1    6     8                   0.80  26.16  1108.000000   \n",
       "1  1/1/2015        1    6     1                   0.75   3.94  1190.465991   \n",
       "2  1/1/2015        1    6    11                   0.80  11.41   968.000000   \n",
       "3  1/1/2015        1    6    12                   0.80  11.41   968.000000   \n",
       "4  1/1/2015        1    6     6                   0.80  25.90  1170.000000   \n",
       "\n",
       "   over_time  incentive  idle_time  idle_men  no_of_style_change  \\\n",
       "0       7080         98        0.0         0                   0   \n",
       "1        960          0        0.0         0                   0   \n",
       "2       3660         50        0.0         0                   0   \n",
       "3       3660         50        0.0         0                   0   \n",
       "4       1920         50        0.0         0                   0   \n",
       "\n",
       "   no_of_workers  actual_productivity  department_finishing  \\\n",
       "0           59.0             0.940725                     0   \n",
       "1            8.0             0.886500                     0   \n",
       "2           30.5             0.800570                     0   \n",
       "3           30.5             0.800570                     0   \n",
       "4           56.0             0.800382                     0   \n",
       "\n",
       "   department_finishing   department_sweing  \n",
       "0                      0                  1  \n",
       "1                      1                  0  \n",
       "2                      0                  1  \n",
       "3                      0                  1  \n",
       "4                      0                  1  "
      ]
     },
     "execution_count": 2519,
     "metadata": {},
     "output_type": "execute_result"
    }
   ],
   "source": [
    "dataSet.head()  "
   ]
  },
  {
   "cell_type": "code",
   "execution_count": 2520,
   "id": "cdb16124",
   "metadata": {},
   "outputs": [
    {
     "name": "stdout",
     "output_type": "stream",
     "text": [
      "<class 'pandas.core.frame.DataFrame'>\n",
      "RangeIndex: 1197 entries, 0 to 1196\n",
      "Data columns (total 17 columns):\n",
      " #   Column                 Non-Null Count  Dtype  \n",
      "---  ------                 --------------  -----  \n",
      " 0   date                   1197 non-null   object \n",
      " 1   quarter                1197 non-null   int64  \n",
      " 2   day                    1197 non-null   int64  \n",
      " 3   team                   1197 non-null   int64  \n",
      " 4   targeted_productivity  1197 non-null   float64\n",
      " 5   smv                    1197 non-null   float64\n",
      " 6   wip                    1197 non-null   float64\n",
      " 7   over_time              1197 non-null   int64  \n",
      " 8   incentive              1197 non-null   int64  \n",
      " 9   idle_time              1197 non-null   float64\n",
      " 10  idle_men               1197 non-null   int64  \n",
      " 11  no_of_style_change     1197 non-null   int64  \n",
      " 12  no_of_workers          1197 non-null   float64\n",
      " 13  actual_productivity    1197 non-null   float64\n",
      " 14  department_finishing   1197 non-null   uint8  \n",
      " 15  department_finishing   1197 non-null   uint8  \n",
      " 16  department_sweing      1197 non-null   uint8  \n",
      "dtypes: float64(6), int64(7), object(1), uint8(3)\n",
      "memory usage: 134.6+ KB\n"
     ]
    }
   ],
   "source": [
    "dataSet.info()"
   ]
  },
  {
   "cell_type": "code",
   "execution_count": 2521,
   "id": "0f17727d",
   "metadata": {},
   "outputs": [],
   "source": [
    "dataSet['no_of_workers']=dataSet['no_of_workers'].astype(int)"
   ]
  },
  {
   "cell_type": "code",
   "execution_count": 2522,
   "id": "0dc27c65",
   "metadata": {},
   "outputs": [
    {
     "data": {
      "text/html": [
       "<div>\n",
       "<style scoped>\n",
       "    .dataframe tbody tr th:only-of-type {\n",
       "        vertical-align: middle;\n",
       "    }\n",
       "\n",
       "    .dataframe tbody tr th {\n",
       "        vertical-align: top;\n",
       "    }\n",
       "\n",
       "    .dataframe thead th {\n",
       "        text-align: right;\n",
       "    }\n",
       "</style>\n",
       "<table border=\"1\" class=\"dataframe\">\n",
       "  <thead>\n",
       "    <tr style=\"text-align: right;\">\n",
       "      <th></th>\n",
       "      <th>date</th>\n",
       "      <th>quarter</th>\n",
       "      <th>day</th>\n",
       "      <th>team</th>\n",
       "      <th>targeted_productivity</th>\n",
       "      <th>smv</th>\n",
       "      <th>wip</th>\n",
       "      <th>over_time</th>\n",
       "      <th>incentive</th>\n",
       "      <th>idle_time</th>\n",
       "      <th>idle_men</th>\n",
       "      <th>no_of_style_change</th>\n",
       "      <th>no_of_workers</th>\n",
       "      <th>actual_productivity</th>\n",
       "      <th>department_finishing</th>\n",
       "      <th>department_finishing</th>\n",
       "      <th>department_sweing</th>\n",
       "    </tr>\n",
       "  </thead>\n",
       "  <tbody>\n",
       "    <tr>\n",
       "      <th>0</th>\n",
       "      <td>1/1/2015</td>\n",
       "      <td>1</td>\n",
       "      <td>6</td>\n",
       "      <td>8</td>\n",
       "      <td>0.80</td>\n",
       "      <td>26.16</td>\n",
       "      <td>1108.000000</td>\n",
       "      <td>7080</td>\n",
       "      <td>98</td>\n",
       "      <td>0.0</td>\n",
       "      <td>0</td>\n",
       "      <td>0</td>\n",
       "      <td>59</td>\n",
       "      <td>0.940725</td>\n",
       "      <td>0</td>\n",
       "      <td>0</td>\n",
       "      <td>1</td>\n",
       "    </tr>\n",
       "    <tr>\n",
       "      <th>1</th>\n",
       "      <td>1/1/2015</td>\n",
       "      <td>1</td>\n",
       "      <td>6</td>\n",
       "      <td>1</td>\n",
       "      <td>0.75</td>\n",
       "      <td>3.94</td>\n",
       "      <td>1190.465991</td>\n",
       "      <td>960</td>\n",
       "      <td>0</td>\n",
       "      <td>0.0</td>\n",
       "      <td>0</td>\n",
       "      <td>0</td>\n",
       "      <td>8</td>\n",
       "      <td>0.886500</td>\n",
       "      <td>0</td>\n",
       "      <td>1</td>\n",
       "      <td>0</td>\n",
       "    </tr>\n",
       "    <tr>\n",
       "      <th>2</th>\n",
       "      <td>1/1/2015</td>\n",
       "      <td>1</td>\n",
       "      <td>6</td>\n",
       "      <td>11</td>\n",
       "      <td>0.80</td>\n",
       "      <td>11.41</td>\n",
       "      <td>968.000000</td>\n",
       "      <td>3660</td>\n",
       "      <td>50</td>\n",
       "      <td>0.0</td>\n",
       "      <td>0</td>\n",
       "      <td>0</td>\n",
       "      <td>30</td>\n",
       "      <td>0.800570</td>\n",
       "      <td>0</td>\n",
       "      <td>0</td>\n",
       "      <td>1</td>\n",
       "    </tr>\n",
       "    <tr>\n",
       "      <th>3</th>\n",
       "      <td>1/1/2015</td>\n",
       "      <td>1</td>\n",
       "      <td>6</td>\n",
       "      <td>12</td>\n",
       "      <td>0.80</td>\n",
       "      <td>11.41</td>\n",
       "      <td>968.000000</td>\n",
       "      <td>3660</td>\n",
       "      <td>50</td>\n",
       "      <td>0.0</td>\n",
       "      <td>0</td>\n",
       "      <td>0</td>\n",
       "      <td>30</td>\n",
       "      <td>0.800570</td>\n",
       "      <td>0</td>\n",
       "      <td>0</td>\n",
       "      <td>1</td>\n",
       "    </tr>\n",
       "    <tr>\n",
       "      <th>4</th>\n",
       "      <td>1/1/2015</td>\n",
       "      <td>1</td>\n",
       "      <td>6</td>\n",
       "      <td>6</td>\n",
       "      <td>0.80</td>\n",
       "      <td>25.90</td>\n",
       "      <td>1170.000000</td>\n",
       "      <td>1920</td>\n",
       "      <td>50</td>\n",
       "      <td>0.0</td>\n",
       "      <td>0</td>\n",
       "      <td>0</td>\n",
       "      <td>56</td>\n",
       "      <td>0.800382</td>\n",
       "      <td>0</td>\n",
       "      <td>0</td>\n",
       "      <td>1</td>\n",
       "    </tr>\n",
       "  </tbody>\n",
       "</table>\n",
       "</div>"
      ],
      "text/plain": [
       "       date  quarter  day  team  targeted_productivity    smv          wip  \\\n",
       "0  1/1/2015        1    6     8                   0.80  26.16  1108.000000   \n",
       "1  1/1/2015        1    6     1                   0.75   3.94  1190.465991   \n",
       "2  1/1/2015        1    6    11                   0.80  11.41   968.000000   \n",
       "3  1/1/2015        1    6    12                   0.80  11.41   968.000000   \n",
       "4  1/1/2015        1    6     6                   0.80  25.90  1170.000000   \n",
       "\n",
       "   over_time  incentive  idle_time  idle_men  no_of_style_change  \\\n",
       "0       7080         98        0.0         0                   0   \n",
       "1        960          0        0.0         0                   0   \n",
       "2       3660         50        0.0         0                   0   \n",
       "3       3660         50        0.0         0                   0   \n",
       "4       1920         50        0.0         0                   0   \n",
       "\n",
       "   no_of_workers  actual_productivity  department_finishing  \\\n",
       "0             59             0.940725                     0   \n",
       "1              8             0.886500                     0   \n",
       "2             30             0.800570                     0   \n",
       "3             30             0.800570                     0   \n",
       "4             56             0.800382                     0   \n",
       "\n",
       "   department_finishing   department_sweing  \n",
       "0                      0                  1  \n",
       "1                      1                  0  \n",
       "2                      0                  1  \n",
       "3                      0                  1  \n",
       "4                      0                  1  "
      ]
     },
     "execution_count": 2522,
     "metadata": {},
     "output_type": "execute_result"
    }
   ],
   "source": [
    "dataSet.head()"
   ]
  },
  {
   "cell_type": "code",
   "execution_count": 2523,
   "id": "faec79ef",
   "metadata": {},
   "outputs": [
    {
     "name": "stdout",
     "output_type": "stream",
     "text": [
      "<class 'pandas.core.frame.DataFrame'>\n",
      "RangeIndex: 1197 entries, 0 to 1196\n",
      "Data columns (total 17 columns):\n",
      " #   Column                 Non-Null Count  Dtype  \n",
      "---  ------                 --------------  -----  \n",
      " 0   date                   1197 non-null   object \n",
      " 1   quarter                1197 non-null   int64  \n",
      " 2   day                    1197 non-null   int64  \n",
      " 3   team                   1197 non-null   int64  \n",
      " 4   targeted_productivity  1197 non-null   float64\n",
      " 5   smv                    1197 non-null   float64\n",
      " 6   wip                    1197 non-null   float64\n",
      " 7   over_time              1197 non-null   int64  \n",
      " 8   incentive              1197 non-null   int64  \n",
      " 9   idle_time              1197 non-null   float64\n",
      " 10  idle_men               1197 non-null   int64  \n",
      " 11  no_of_style_change     1197 non-null   int64  \n",
      " 12  no_of_workers          1197 non-null   int32  \n",
      " 13  actual_productivity    1197 non-null   float64\n",
      " 14  department_finishing   1197 non-null   uint8  \n",
      " 15  department_finishing   1197 non-null   uint8  \n",
      " 16  department_sweing      1197 non-null   uint8  \n",
      "dtypes: float64(5), int32(1), int64(7), object(1), uint8(3)\n",
      "memory usage: 129.9+ KB\n"
     ]
    }
   ],
   "source": [
    "dataSet.info()"
   ]
  },
  {
   "cell_type": "code",
   "execution_count": 2524,
   "id": "d06c4003",
   "metadata": {},
   "outputs": [],
   "source": [
    "dataSet['date']=dataSet['date'].str.replace(\"/\",\"\")"
   ]
  },
  {
   "cell_type": "code",
   "execution_count": 2525,
   "id": "8946c0a3",
   "metadata": {},
   "outputs": [
    {
     "data": {
      "text/plain": [
       "array(['112015', '132015', '142015', '152015', '162015', '172015',\n",
       "       '182015', '1102015', '1112015', '1122015', '1132015', '1142015',\n",
       "       '1152015', '1172015', '1182015', '1192015', '1202015', '1212015',\n",
       "       '1222015', '1242015', '1252015', '1262015', '1272015', '1282015',\n",
       "       '1292015', '1312015', '212015', '222015', '232015', '242015',\n",
       "       '252015', '272015', '282015', '292015', '2102015', '2112015',\n",
       "       '2122015', '2142015', '2152015', '2162015', '2172015', '2182015',\n",
       "       '2192015', '2222015', '2232015', '2242015', '2252015', '2262015',\n",
       "       '2282015', '312015', '322015', '332015', '342015', '352015',\n",
       "       '372015', '382015', '392015', '3102015', '3112015'], dtype=object)"
      ]
     },
     "execution_count": 2525,
     "metadata": {},
     "output_type": "execute_result"
    }
   ],
   "source": [
    "dataSet['date'].unique()"
   ]
  },
  {
   "cell_type": "code",
   "execution_count": 2526,
   "id": "6da85b81",
   "metadata": {},
   "outputs": [],
   "source": [
    "dataSet['date']=dataSet['date'].astype(int)"
   ]
  },
  {
   "cell_type": "code",
   "execution_count": 2527,
   "id": "c331ab3b",
   "metadata": {},
   "outputs": [
    {
     "name": "stdout",
     "output_type": "stream",
     "text": [
      "<class 'pandas.core.frame.DataFrame'>\n",
      "RangeIndex: 1197 entries, 0 to 1196\n",
      "Data columns (total 17 columns):\n",
      " #   Column                 Non-Null Count  Dtype  \n",
      "---  ------                 --------------  -----  \n",
      " 0   date                   1197 non-null   int32  \n",
      " 1   quarter                1197 non-null   int64  \n",
      " 2   day                    1197 non-null   int64  \n",
      " 3   team                   1197 non-null   int64  \n",
      " 4   targeted_productivity  1197 non-null   float64\n",
      " 5   smv                    1197 non-null   float64\n",
      " 6   wip                    1197 non-null   float64\n",
      " 7   over_time              1197 non-null   int64  \n",
      " 8   incentive              1197 non-null   int64  \n",
      " 9   idle_time              1197 non-null   float64\n",
      " 10  idle_men               1197 non-null   int64  \n",
      " 11  no_of_style_change     1197 non-null   int64  \n",
      " 12  no_of_workers          1197 non-null   int32  \n",
      " 13  actual_productivity    1197 non-null   float64\n",
      " 14  department_finishing   1197 non-null   uint8  \n",
      " 15  department_finishing   1197 non-null   uint8  \n",
      " 16  department_sweing      1197 non-null   uint8  \n",
      "dtypes: float64(5), int32(2), int64(7), uint8(3)\n",
      "memory usage: 125.2 KB\n"
     ]
    }
   ],
   "source": [
    "dataSet.info()"
   ]
  },
  {
   "cell_type": "code",
   "execution_count": 2528,
   "id": "88d52e9b",
   "metadata": {},
   "outputs": [
    {
     "data": {
      "text/html": [
       "<div>\n",
       "<style scoped>\n",
       "    .dataframe tbody tr th:only-of-type {\n",
       "        vertical-align: middle;\n",
       "    }\n",
       "\n",
       "    .dataframe tbody tr th {\n",
       "        vertical-align: top;\n",
       "    }\n",
       "\n",
       "    .dataframe thead th {\n",
       "        text-align: right;\n",
       "    }\n",
       "</style>\n",
       "<table border=\"1\" class=\"dataframe\">\n",
       "  <thead>\n",
       "    <tr style=\"text-align: right;\">\n",
       "      <th></th>\n",
       "      <th>date</th>\n",
       "      <th>quarter</th>\n",
       "      <th>day</th>\n",
       "      <th>team</th>\n",
       "      <th>targeted_productivity</th>\n",
       "      <th>smv</th>\n",
       "      <th>wip</th>\n",
       "      <th>over_time</th>\n",
       "      <th>incentive</th>\n",
       "      <th>idle_time</th>\n",
       "      <th>idle_men</th>\n",
       "      <th>no_of_style_change</th>\n",
       "      <th>no_of_workers</th>\n",
       "      <th>actual_productivity</th>\n",
       "      <th>department_finishing</th>\n",
       "      <th>department_finishing</th>\n",
       "      <th>department_sweing</th>\n",
       "    </tr>\n",
       "  </thead>\n",
       "  <tbody>\n",
       "    <tr>\n",
       "      <th>0</th>\n",
       "      <td>112015</td>\n",
       "      <td>1</td>\n",
       "      <td>6</td>\n",
       "      <td>8</td>\n",
       "      <td>0.80</td>\n",
       "      <td>26.16</td>\n",
       "      <td>1108.000000</td>\n",
       "      <td>7080</td>\n",
       "      <td>98</td>\n",
       "      <td>0.0</td>\n",
       "      <td>0</td>\n",
       "      <td>0</td>\n",
       "      <td>59</td>\n",
       "      <td>0.940725</td>\n",
       "      <td>0</td>\n",
       "      <td>0</td>\n",
       "      <td>1</td>\n",
       "    </tr>\n",
       "    <tr>\n",
       "      <th>1</th>\n",
       "      <td>112015</td>\n",
       "      <td>1</td>\n",
       "      <td>6</td>\n",
       "      <td>1</td>\n",
       "      <td>0.75</td>\n",
       "      <td>3.94</td>\n",
       "      <td>1190.465991</td>\n",
       "      <td>960</td>\n",
       "      <td>0</td>\n",
       "      <td>0.0</td>\n",
       "      <td>0</td>\n",
       "      <td>0</td>\n",
       "      <td>8</td>\n",
       "      <td>0.886500</td>\n",
       "      <td>0</td>\n",
       "      <td>1</td>\n",
       "      <td>0</td>\n",
       "    </tr>\n",
       "    <tr>\n",
       "      <th>2</th>\n",
       "      <td>112015</td>\n",
       "      <td>1</td>\n",
       "      <td>6</td>\n",
       "      <td>11</td>\n",
       "      <td>0.80</td>\n",
       "      <td>11.41</td>\n",
       "      <td>968.000000</td>\n",
       "      <td>3660</td>\n",
       "      <td>50</td>\n",
       "      <td>0.0</td>\n",
       "      <td>0</td>\n",
       "      <td>0</td>\n",
       "      <td>30</td>\n",
       "      <td>0.800570</td>\n",
       "      <td>0</td>\n",
       "      <td>0</td>\n",
       "      <td>1</td>\n",
       "    </tr>\n",
       "    <tr>\n",
       "      <th>3</th>\n",
       "      <td>112015</td>\n",
       "      <td>1</td>\n",
       "      <td>6</td>\n",
       "      <td>12</td>\n",
       "      <td>0.80</td>\n",
       "      <td>11.41</td>\n",
       "      <td>968.000000</td>\n",
       "      <td>3660</td>\n",
       "      <td>50</td>\n",
       "      <td>0.0</td>\n",
       "      <td>0</td>\n",
       "      <td>0</td>\n",
       "      <td>30</td>\n",
       "      <td>0.800570</td>\n",
       "      <td>0</td>\n",
       "      <td>0</td>\n",
       "      <td>1</td>\n",
       "    </tr>\n",
       "    <tr>\n",
       "      <th>4</th>\n",
       "      <td>112015</td>\n",
       "      <td>1</td>\n",
       "      <td>6</td>\n",
       "      <td>6</td>\n",
       "      <td>0.80</td>\n",
       "      <td>25.90</td>\n",
       "      <td>1170.000000</td>\n",
       "      <td>1920</td>\n",
       "      <td>50</td>\n",
       "      <td>0.0</td>\n",
       "      <td>0</td>\n",
       "      <td>0</td>\n",
       "      <td>56</td>\n",
       "      <td>0.800382</td>\n",
       "      <td>0</td>\n",
       "      <td>0</td>\n",
       "      <td>1</td>\n",
       "    </tr>\n",
       "  </tbody>\n",
       "</table>\n",
       "</div>"
      ],
      "text/plain": [
       "     date  quarter  day  team  targeted_productivity    smv          wip  \\\n",
       "0  112015        1    6     8                   0.80  26.16  1108.000000   \n",
       "1  112015        1    6     1                   0.75   3.94  1190.465991   \n",
       "2  112015        1    6    11                   0.80  11.41   968.000000   \n",
       "3  112015        1    6    12                   0.80  11.41   968.000000   \n",
       "4  112015        1    6     6                   0.80  25.90  1170.000000   \n",
       "\n",
       "   over_time  incentive  idle_time  idle_men  no_of_style_change  \\\n",
       "0       7080         98        0.0         0                   0   \n",
       "1        960          0        0.0         0                   0   \n",
       "2       3660         50        0.0         0                   0   \n",
       "3       3660         50        0.0         0                   0   \n",
       "4       1920         50        0.0         0                   0   \n",
       "\n",
       "   no_of_workers  actual_productivity  department_finishing  \\\n",
       "0             59             0.940725                     0   \n",
       "1              8             0.886500                     0   \n",
       "2             30             0.800570                     0   \n",
       "3             30             0.800570                     0   \n",
       "4             56             0.800382                     0   \n",
       "\n",
       "   department_finishing   department_sweing  \n",
       "0                      0                  1  \n",
       "1                      1                  0  \n",
       "2                      0                  1  \n",
       "3                      0                  1  \n",
       "4                      0                  1  "
      ]
     },
     "execution_count": 2528,
     "metadata": {},
     "output_type": "execute_result"
    }
   ],
   "source": [
    "dataSet.head()"
   ]
  },
  {
   "cell_type": "code",
   "execution_count": 2529,
   "id": "3298ddc5",
   "metadata": {},
   "outputs": [
    {
     "name": "stdout",
     "output_type": "stream",
     "text": [
      "(1197, 17)\n"
     ]
    }
   ],
   "source": [
    "print(dataSet.shape)"
   ]
  },
  {
   "cell_type": "code",
   "execution_count": 2530,
   "id": "1c5de452",
   "metadata": {},
   "outputs": [
    {
     "data": {
      "text/html": [
       "<div>\n",
       "<style scoped>\n",
       "    .dataframe tbody tr th:only-of-type {\n",
       "        vertical-align: middle;\n",
       "    }\n",
       "\n",
       "    .dataframe tbody tr th {\n",
       "        vertical-align: top;\n",
       "    }\n",
       "\n",
       "    .dataframe thead th {\n",
       "        text-align: right;\n",
       "    }\n",
       "</style>\n",
       "<table border=\"1\" class=\"dataframe\">\n",
       "  <thead>\n",
       "    <tr style=\"text-align: right;\">\n",
       "      <th></th>\n",
       "      <th>date</th>\n",
       "      <th>quarter</th>\n",
       "      <th>day</th>\n",
       "      <th>team</th>\n",
       "      <th>targeted_productivity</th>\n",
       "      <th>smv</th>\n",
       "      <th>wip</th>\n",
       "      <th>over_time</th>\n",
       "      <th>incentive</th>\n",
       "      <th>idle_time</th>\n",
       "      <th>idle_men</th>\n",
       "      <th>no_of_style_change</th>\n",
       "      <th>no_of_workers</th>\n",
       "      <th>actual_productivity</th>\n",
       "      <th>department_finishing</th>\n",
       "      <th>department_finishing</th>\n",
       "      <th>department_sweing</th>\n",
       "    </tr>\n",
       "  </thead>\n",
       "  <tbody>\n",
       "    <tr>\n",
       "      <th>count</th>\n",
       "      <td>1.197000e+03</td>\n",
       "      <td>1197.000000</td>\n",
       "      <td>1197.000000</td>\n",
       "      <td>1197.000000</td>\n",
       "      <td>1197.000000</td>\n",
       "      <td>1197.000000</td>\n",
       "      <td>1197.000000</td>\n",
       "      <td>1197.000000</td>\n",
       "      <td>1197.000000</td>\n",
       "      <td>1197.000000</td>\n",
       "      <td>1197.000000</td>\n",
       "      <td>1197.000000</td>\n",
       "      <td>1197.000000</td>\n",
       "      <td>1197.000000</td>\n",
       "      <td>1197.000000</td>\n",
       "      <td>1197.000000</td>\n",
       "      <td>1197.000000</td>\n",
       "    </tr>\n",
       "    <tr>\n",
       "      <th>mean</th>\n",
       "      <td>1.152642e+06</td>\n",
       "      <td>2.399332</td>\n",
       "      <td>3.532164</td>\n",
       "      <td>6.426901</td>\n",
       "      <td>0.729632</td>\n",
       "      <td>15.062172</td>\n",
       "      <td>1190.465991</td>\n",
       "      <td>4567.460317</td>\n",
       "      <td>38.210526</td>\n",
       "      <td>0.730159</td>\n",
       "      <td>0.369256</td>\n",
       "      <td>0.150376</td>\n",
       "      <td>34.551378</td>\n",
       "      <td>0.735091</td>\n",
       "      <td>0.208020</td>\n",
       "      <td>0.214703</td>\n",
       "      <td>0.577277</td>\n",
       "    </tr>\n",
       "    <tr>\n",
       "      <th>std</th>\n",
       "      <td>8.556012e+05</td>\n",
       "      <td>1.215535</td>\n",
       "      <td>1.694969</td>\n",
       "      <td>3.463963</td>\n",
       "      <td>0.097891</td>\n",
       "      <td>10.943219</td>\n",
       "      <td>1395.647261</td>\n",
       "      <td>3348.823563</td>\n",
       "      <td>160.182643</td>\n",
       "      <td>12.709757</td>\n",
       "      <td>3.268987</td>\n",
       "      <td>0.427848</td>\n",
       "      <td>22.152559</td>\n",
       "      <td>0.174488</td>\n",
       "      <td>0.406061</td>\n",
       "      <td>0.410788</td>\n",
       "      <td>0.494199</td>\n",
       "    </tr>\n",
       "    <tr>\n",
       "      <th>min</th>\n",
       "      <td>1.120150e+05</td>\n",
       "      <td>1.000000</td>\n",
       "      <td>1.000000</td>\n",
       "      <td>1.000000</td>\n",
       "      <td>0.070000</td>\n",
       "      <td>2.900000</td>\n",
       "      <td>7.000000</td>\n",
       "      <td>0.000000</td>\n",
       "      <td>0.000000</td>\n",
       "      <td>0.000000</td>\n",
       "      <td>0.000000</td>\n",
       "      <td>0.000000</td>\n",
       "      <td>2.000000</td>\n",
       "      <td>0.233705</td>\n",
       "      <td>0.000000</td>\n",
       "      <td>0.000000</td>\n",
       "      <td>0.000000</td>\n",
       "    </tr>\n",
       "    <tr>\n",
       "      <th>25%</th>\n",
       "      <td>3.120150e+05</td>\n",
       "      <td>1.000000</td>\n",
       "      <td>2.000000</td>\n",
       "      <td>3.000000</td>\n",
       "      <td>0.700000</td>\n",
       "      <td>3.940000</td>\n",
       "      <td>970.000000</td>\n",
       "      <td>1440.000000</td>\n",
       "      <td>0.000000</td>\n",
       "      <td>0.000000</td>\n",
       "      <td>0.000000</td>\n",
       "      <td>0.000000</td>\n",
       "      <td>9.000000</td>\n",
       "      <td>0.650307</td>\n",
       "      <td>0.000000</td>\n",
       "      <td>0.000000</td>\n",
       "      <td>0.000000</td>\n",
       "    </tr>\n",
       "    <tr>\n",
       "      <th>50%</th>\n",
       "      <td>1.172015e+06</td>\n",
       "      <td>2.000000</td>\n",
       "      <td>4.000000</td>\n",
       "      <td>6.000000</td>\n",
       "      <td>0.750000</td>\n",
       "      <td>15.260000</td>\n",
       "      <td>1190.465991</td>\n",
       "      <td>3960.000000</td>\n",
       "      <td>0.000000</td>\n",
       "      <td>0.000000</td>\n",
       "      <td>0.000000</td>\n",
       "      <td>0.000000</td>\n",
       "      <td>34.000000</td>\n",
       "      <td>0.773333</td>\n",
       "      <td>0.000000</td>\n",
       "      <td>0.000000</td>\n",
       "      <td>1.000000</td>\n",
       "    </tr>\n",
       "    <tr>\n",
       "      <th>75%</th>\n",
       "      <td>2.122015e+06</td>\n",
       "      <td>3.000000</td>\n",
       "      <td>5.000000</td>\n",
       "      <td>9.000000</td>\n",
       "      <td>0.800000</td>\n",
       "      <td>24.260000</td>\n",
       "      <td>1190.465991</td>\n",
       "      <td>6960.000000</td>\n",
       "      <td>50.000000</td>\n",
       "      <td>0.000000</td>\n",
       "      <td>0.000000</td>\n",
       "      <td>0.000000</td>\n",
       "      <td>57.000000</td>\n",
       "      <td>0.850253</td>\n",
       "      <td>0.000000</td>\n",
       "      <td>0.000000</td>\n",
       "      <td>1.000000</td>\n",
       "    </tr>\n",
       "    <tr>\n",
       "      <th>max</th>\n",
       "      <td>3.112015e+06</td>\n",
       "      <td>5.000000</td>\n",
       "      <td>6.000000</td>\n",
       "      <td>12.000000</td>\n",
       "      <td>0.800000</td>\n",
       "      <td>54.560000</td>\n",
       "      <td>23122.000000</td>\n",
       "      <td>25920.000000</td>\n",
       "      <td>3600.000000</td>\n",
       "      <td>300.000000</td>\n",
       "      <td>45.000000</td>\n",
       "      <td>2.000000</td>\n",
       "      <td>89.000000</td>\n",
       "      <td>1.120437</td>\n",
       "      <td>1.000000</td>\n",
       "      <td>1.000000</td>\n",
       "      <td>1.000000</td>\n",
       "    </tr>\n",
       "  </tbody>\n",
       "</table>\n",
       "</div>"
      ],
      "text/plain": [
       "               date      quarter          day         team  \\\n",
       "count  1.197000e+03  1197.000000  1197.000000  1197.000000   \n",
       "mean   1.152642e+06     2.399332     3.532164     6.426901   \n",
       "std    8.556012e+05     1.215535     1.694969     3.463963   \n",
       "min    1.120150e+05     1.000000     1.000000     1.000000   \n",
       "25%    3.120150e+05     1.000000     2.000000     3.000000   \n",
       "50%    1.172015e+06     2.000000     4.000000     6.000000   \n",
       "75%    2.122015e+06     3.000000     5.000000     9.000000   \n",
       "max    3.112015e+06     5.000000     6.000000    12.000000   \n",
       "\n",
       "       targeted_productivity          smv           wip     over_time  \\\n",
       "count            1197.000000  1197.000000   1197.000000   1197.000000   \n",
       "mean                0.729632    15.062172   1190.465991   4567.460317   \n",
       "std                 0.097891    10.943219   1395.647261   3348.823563   \n",
       "min                 0.070000     2.900000      7.000000      0.000000   \n",
       "25%                 0.700000     3.940000    970.000000   1440.000000   \n",
       "50%                 0.750000    15.260000   1190.465991   3960.000000   \n",
       "75%                 0.800000    24.260000   1190.465991   6960.000000   \n",
       "max                 0.800000    54.560000  23122.000000  25920.000000   \n",
       "\n",
       "         incentive    idle_time     idle_men  no_of_style_change  \\\n",
       "count  1197.000000  1197.000000  1197.000000         1197.000000   \n",
       "mean     38.210526     0.730159     0.369256            0.150376   \n",
       "std     160.182643    12.709757     3.268987            0.427848   \n",
       "min       0.000000     0.000000     0.000000            0.000000   \n",
       "25%       0.000000     0.000000     0.000000            0.000000   \n",
       "50%       0.000000     0.000000     0.000000            0.000000   \n",
       "75%      50.000000     0.000000     0.000000            0.000000   \n",
       "max    3600.000000   300.000000    45.000000            2.000000   \n",
       "\n",
       "       no_of_workers  actual_productivity  department_finishing  \\\n",
       "count    1197.000000          1197.000000           1197.000000   \n",
       "mean       34.551378             0.735091              0.208020   \n",
       "std        22.152559             0.174488              0.406061   \n",
       "min         2.000000             0.233705              0.000000   \n",
       "25%         9.000000             0.650307              0.000000   \n",
       "50%        34.000000             0.773333              0.000000   \n",
       "75%        57.000000             0.850253              0.000000   \n",
       "max        89.000000             1.120437              1.000000   \n",
       "\n",
       "       department_finishing   department_sweing  \n",
       "count            1197.000000        1197.000000  \n",
       "mean                0.214703           0.577277  \n",
       "std                 0.410788           0.494199  \n",
       "min                 0.000000           0.000000  \n",
       "25%                 0.000000           0.000000  \n",
       "50%                 0.000000           1.000000  \n",
       "75%                 0.000000           1.000000  \n",
       "max                 1.000000           1.000000  "
      ]
     },
     "execution_count": 2530,
     "metadata": {},
     "output_type": "execute_result"
    }
   ],
   "source": [
    "dataSet.describe()"
   ]
  },
  {
   "cell_type": "code",
   "execution_count": 2531,
   "id": "d35a8173",
   "metadata": {},
   "outputs": [
    {
     "name": "stdout",
     "output_type": "stream",
     "text": [
      "date                     1.810000e+06\n",
      "quarter                  2.000000e+00\n",
      "day                      3.000000e+00\n",
      "team                     6.000000e+00\n",
      "targeted_productivity    1.000000e-01\n",
      "smv                      2.032000e+01\n",
      "wip                      2.204660e+02\n",
      "over_time                5.520000e+03\n",
      "incentive                5.000000e+01\n",
      "idle_time                0.000000e+00\n",
      "idle_men                 0.000000e+00\n",
      "no_of_style_change       0.000000e+00\n",
      "no_of_workers            4.800000e+01\n",
      "actual_productivity      1.999454e-01\n",
      "department_finishing     0.000000e+00\n",
      "department_finishing     0.000000e+00\n",
      "department_sweing        1.000000e+00\n",
      "dtype: float64\n"
     ]
    }
   ],
   "source": [
    "Q1=dataSet.quantile(0.25)\n",
    "Q3=dataSet.quantile(0.75)\n",
    "IQR=Q3-Q1\n",
    "print(IQR)"
   ]
  },
  {
   "cell_type": "code",
   "execution_count": 2532,
   "id": "f6c0f55b",
   "metadata": {},
   "outputs": [
    {
     "name": "stdout",
     "output_type": "stream",
     "text": [
      "       date  quarter    day   team  targeted_productivity    smv    wip  \\\n",
      "0     False    False  False  False                  False  False  False   \n",
      "1     False    False  False  False                  False  False  False   \n",
      "2     False    False  False  False                  False  False  False   \n",
      "3     False    False  False  False                  False  False  False   \n",
      "4     False    False  False  False                  False  False  False   \n",
      "...     ...      ...    ...    ...                    ...    ...    ...   \n",
      "1192  False    False  False  False                  False  False  False   \n",
      "1193  False    False  False  False                  False  False  False   \n",
      "1194  False    False  False  False                  False  False  False   \n",
      "1195  False    False  False  False                  False  False  False   \n",
      "1196  False    False  False  False                  False  False  False   \n",
      "\n",
      "      over_time  incentive  idle_time  idle_men  no_of_style_change  \\\n",
      "0         False      False      False     False               False   \n",
      "1         False      False      False     False               False   \n",
      "2         False      False      False     False               False   \n",
      "3         False      False      False     False               False   \n",
      "4         False      False      False     False               False   \n",
      "...         ...        ...        ...       ...                 ...   \n",
      "1192      False      False      False     False               False   \n",
      "1193      False      False      False     False               False   \n",
      "1194      False      False      False     False               False   \n",
      "1195      False      False      False     False               False   \n",
      "1196      False      False      False     False               False   \n",
      "\n",
      "      no_of_workers  actual_productivity  department_finishing  \\\n",
      "0             False                False                 False   \n",
      "1             False                False                 False   \n",
      "2             False                False                 False   \n",
      "3             False                False                 False   \n",
      "4             False                False                 False   \n",
      "...             ...                  ...                   ...   \n",
      "1192          False                False                  True   \n",
      "1193          False                False                  True   \n",
      "1194          False                False                  True   \n",
      "1195          False                False                  True   \n",
      "1196          False                False                  True   \n",
      "\n",
      "      department_finishing   department_sweing  \n",
      "0                     False              False  \n",
      "1                      True              False  \n",
      "2                     False              False  \n",
      "3                     False              False  \n",
      "4                     False              False  \n",
      "...                     ...                ...  \n",
      "1192                  False              False  \n",
      "1193                  False              False  \n",
      "1194                  False              False  \n",
      "1195                  False              False  \n",
      "1196                  False              False  \n",
      "\n",
      "[1197 rows x 17 columns]\n"
     ]
    }
   ],
   "source": [
    "print((dataSet<(Q1-1.5*IQR)) | (dataSet> (Q3+ 1.5*IQR)))"
   ]
  },
  {
   "cell_type": "code",
   "execution_count": 2533,
   "id": "4c2981a8",
   "metadata": {},
   "outputs": [
    {
     "data": {
      "text/plain": [
       "date                      0.451140\n",
       "quarter                   0.386482\n",
       "day                      -0.021836\n",
       "team                      0.009848\n",
       "targeted_productivity    -2.144150\n",
       "smv                       0.405937\n",
       "wip                      12.809939\n",
       "over_time                 0.673287\n",
       "incentive                15.790746\n",
       "idle_time                20.545425\n",
       "idle_men                  9.855079\n",
       "no_of_style_change        2.942506\n",
       "no_of_workers            -0.110965\n",
       "actual_productivity      -0.807492\n",
       "department_finishing      1.440516\n",
       "department_finishing      1.391345\n",
       "department_sweing        -0.313258\n",
       "dtype: float64"
      ]
     },
     "execution_count": 2533,
     "metadata": {},
     "output_type": "execute_result"
    }
   ],
   "source": [
    "dataSet.skew()"
   ]
  },
  {
   "cell_type": "code",
   "execution_count": 2534,
   "id": "33eeedd5",
   "metadata": {},
   "outputs": [
    {
     "data": {
      "image/png": "[encoded data removed]",
      "text/plain": [
       "<Figure size 432x288 with 1 Axes>"
      ]
     },
     "metadata": {
      "needs_background": "light"
     },
     "output_type": "display_data"
    }
   ],
   "source": [
    "plt.boxplot(dataSet[\"targeted_productivity\"])\n",
    "plt.show()"
   ]
  },
  {
   "cell_type": "code",
   "execution_count": 2535,
   "id": "6ac01085",
   "metadata": {},
   "outputs": [
    {
     "data": {
      "text/plain": [
       "<AxesSubplot:>"
      ]
     },
     "execution_count": 2535,
     "metadata": {},
     "output_type": "execute_result"
    },
    {
     "data": {
      "image/png": "[encoded data removed]",
      "text/plain": [
       "<Figure size 432x288 with 1 Axes>"
      ]
     },
     "metadata": {
      "needs_background": "light"
     },
     "output_type": "display_data"
    }
   ],
   "source": [
    "dataSet.targeted_productivity.hist()"
   ]
  },
  {
   "cell_type": "code",
   "execution_count": 2536,
   "id": "f007057d",
   "metadata": {},
   "outputs": [
    {
     "name": "stdout",
     "output_type": "stream",
     "text": [
      "0.6\n",
      "0.8\n"
     ]
    }
   ],
   "source": [
    "print(dataSet['targeted_productivity'].quantile(0.10))\n",
    "print(dataSet['targeted_productivity'].quantile(0.90))"
   ]
  },
  {
   "cell_type": "code",
   "execution_count": 2537,
   "id": "a24a99d1",
   "metadata": {},
   "outputs": [
    {
     "name": "stdout",
     "output_type": "stream",
     "text": [
      "-2.144150033252199\n",
      "-0.8529899016272227\n"
     ]
    }
   ],
   "source": [
    "print(dataSet['targeted_productivity'].skew())\n",
    "\n",
    "dataSet['targeted_productivity']=np.where(dataSet['targeted_productivity'] < 0.6 , 0.6 , dataSet['targeted_productivity'])\n",
    "dataSet['targeted_productivity']=np.where(dataSet['targeted_productivity'] > 0.8 , 0.8 , dataSet['targeted_productivity'])\n",
    "\n",
    "print(dataSet['targeted_productivity'].skew())"
   ]
  },
  {
   "cell_type": "code",
   "execution_count": 2538,
   "id": "7f7ca0fe",
   "metadata": {},
   "outputs": [
    {
     "data": {
      "image/png": "[encoded data removed]",
      "text/plain": [
       "<Figure size 432x288 with 1 Axes>"
      ]
     },
     "metadata": {
      "needs_background": "light"
     },
     "output_type": "display_data"
    }
   ],
   "source": [
    "plt.boxplot(dataSet[\"targeted_productivity\"])\n",
    "plt.show()"
   ]
  },
  {
   "cell_type": "code",
   "execution_count": 2539,
   "id": "842e5273",
   "metadata": {},
   "outputs": [
    {
     "name": "stdout",
     "output_type": "stream",
     "text": [
      "668.0\n",
      "1363.0\n"
     ]
    }
   ],
   "source": [
    "print(dataSet['wip'].quantile(0.10))\n",
    "print(dataSet['wip'].quantile(0.90))"
   ]
  },
  {
   "cell_type": "code",
   "execution_count": 2540,
   "id": "ce823090",
   "metadata": {},
   "outputs": [
    {
     "name": "stdout",
     "output_type": "stream",
     "text": [
      "12.809938992672853\n",
      "-0.9058249345092649\n"
     ]
    }
   ],
   "source": [
    "print(dataSet['wip'].skew())\n",
    "\n",
    "dataSet['wip']=np.where(dataSet['wip'] < 668.0 , 668.0 , dataSet['wip'])\n",
    "dataSet['wip']=np.where(dataSet['wip'] > 1363.0 , 1363.0 , dataSet['wip'])\n",
    "\n",
    "print(dataSet['wip'].skew())"
   ]
  },
  {
   "cell_type": "code",
   "execution_count": 2541,
   "id": "7c1efd06",
   "metadata": {},
   "outputs": [
    {
     "data": {
      "image/png": "[encoded data removed]",
      "text/plain": [
       "<Figure size 432x288 with 1 Axes>"
      ]
     },
     "metadata": {
      "needs_background": "light"
     },
     "output_type": "display_data"
    }
   ],
   "source": [
    "plt.boxplot(dataSet[\"wip\"])\n",
    "plt.show()"
   ]
  },
  {
   "cell_type": "code",
   "execution_count": 2542,
   "id": "349be0cc",
   "metadata": {},
   "outputs": [
    {
     "data": {
      "image/png": "[encoded data removed]",
      "text/plain": [
       "<Figure size 432x288 with 1 Axes>"
      ]
     },
     "metadata": {
      "needs_background": "light"
     },
     "output_type": "display_data"
    }
   ],
   "source": [
    "plt.boxplot(dataSet[\"incentive\"])\n",
    "plt.show()"
   ]
  },
  {
   "cell_type": "code",
   "execution_count": 2543,
   "id": "cae316c9",
   "metadata": {},
   "outputs": [
    {
     "name": "stdout",
     "output_type": "stream",
     "text": [
      "0.0\n",
      "63.0\n"
     ]
    }
   ],
   "source": [
    "print(dataSet['incentive'].quantile(0.10))\n",
    "print(dataSet['incentive'].quantile(0.90))"
   ]
  },
  {
   "cell_type": "code",
   "execution_count": 2544,
   "id": "a0fa3ee9",
   "metadata": {},
   "outputs": [
    {
     "name": "stdout",
     "output_type": "stream",
     "text": [
      "15.790746016958247\n",
      "0.3549744433565577\n"
     ]
    }
   ],
   "source": [
    "print(dataSet['incentive'].skew())\n",
    "\n",
    "dataSet['incentive']=np.where(dataSet['incentive'] < 0.0 , 0.0 , dataSet['incentive'])\n",
    "dataSet['incentive']=np.where(dataSet['incentive'] > 63.0 , 63.0 , dataSet['incentive'])\n",
    "\n",
    "print(dataSet['incentive'].skew())"
   ]
  },
  {
   "cell_type": "code",
   "execution_count": 2545,
   "id": "374b3867",
   "metadata": {},
   "outputs": [
    {
     "data": {
      "image/png": "[encoded data removed]",
      "text/plain": [
       "<Figure size 432x288 with 1 Axes>"
      ]
     },
     "metadata": {
      "needs_background": "light"
     },
     "output_type": "display_data"
    }
   ],
   "source": [
    "plt.boxplot(dataSet[\"incentive\"])\n",
    "plt.show()"
   ]
  },
  {
   "cell_type": "code",
   "execution_count": 2546,
   "id": "99b97c40",
   "metadata": {},
   "outputs": [
    {
     "data": {
      "image/png": "[encoded data removed]",
      "text/plain": [
       "<Figure size 432x288 with 1 Axes>"
      ]
     },
     "metadata": {
      "needs_background": "light"
     },
     "output_type": "display_data"
    }
   ],
   "source": [
    "plt.boxplot(dataSet[\"idle_time\"])\n",
    "plt.show()"
   ]
  },
  {
   "cell_type": "code",
   "execution_count": 2547,
   "id": "1ba3e7f7",
   "metadata": {},
   "outputs": [
    {
     "name": "stdout",
     "output_type": "stream",
     "text": [
      "0.0\n",
      "0.0\n"
     ]
    }
   ],
   "source": [
    "print(dataSet['idle_time'].quantile(0.10))\n",
    "print(dataSet['idle_time'].quantile(0.90))"
   ]
  },
  {
   "cell_type": "code",
   "execution_count": 2548,
   "id": "eca88210",
   "metadata": {},
   "outputs": [
    {
     "data": {
      "text/plain": [
       "20.545425229670172"
      ]
     },
     "execution_count": 2548,
     "metadata": {},
     "output_type": "execute_result"
    }
   ],
   "source": [
    "dataSet.idle_time.skew()"
   ]
  },
  {
   "cell_type": "code",
   "execution_count": 2549,
   "id": "0d313adc",
   "metadata": {},
   "outputs": [
    {
     "name": "stdout",
     "output_type": "stream",
     "text": [
      "20.545425229670172\n",
      "0\n"
     ]
    }
   ],
   "source": [
    "print(dataSet['idle_time'].skew())\n",
    "\n",
    "dataSet['idle_time']=np.where(dataSet['idle_time'] < 0.0 , 0.0 , dataSet['idle_time'])\n",
    "dataSet['idle_time']=np.where(dataSet['idle_time'] > 0.0 , 0.0 , dataSet['idle_time'])\n",
    "\n",
    "print(dataSet['idle_time'].skew())"
   ]
  },
  {
   "cell_type": "code",
   "execution_count": 2550,
   "id": "08db1254",
   "metadata": {},
   "outputs": [
    {
     "data": {
      "text/plain": [
       "<AxesSubplot:>"
      ]
     },
     "execution_count": 2550,
     "metadata": {},
     "output_type": "execute_result"
    },
    {
     "data": {
      "image/png": "[encoded data removed]",
      "text/plain": [
       "<Figure size 432x288 with 1 Axes>"
      ]
     },
     "metadata": {
      "needs_background": "light"
     },
     "output_type": "display_data"
    }
   ],
   "source": [
    "dataSet[\"idle_time\"].hist()\n"
   ]
  },
  {
   "cell_type": "code",
   "execution_count": 2551,
   "id": "9edf62dc",
   "metadata": {},
   "outputs": [
    {
     "data": {
      "text/plain": [
       "date                     0.451140\n",
       "quarter                  0.386482\n",
       "day                     -0.021836\n",
       "team                     0.009848\n",
       "targeted_productivity   -0.852990\n",
       "smv                      0.405937\n",
       "wip                     -0.905825\n",
       "over_time                0.673287\n",
       "incentive                0.354974\n",
       "idle_time                0.000000\n",
       "idle_men                 9.855079\n",
       "no_of_style_change       2.942506\n",
       "no_of_workers           -0.110965\n",
       "actual_productivity     -0.807492\n",
       "department_finishing     1.440516\n",
       "department_finishing     1.391345\n",
       "department_sweing       -0.313258\n",
       "dtype: float64"
      ]
     },
     "execution_count": 2551,
     "metadata": {},
     "output_type": "execute_result"
    }
   ],
   "source": [
    "dataSet.skew()"
   ]
  },
  {
   "cell_type": "code",
   "execution_count": 2552,
   "id": "b97f95e7",
   "metadata": {},
   "outputs": [
    {
     "data": {
      "text/plain": [
       "<AxesSubplot:>"
      ]
     },
     "execution_count": 2552,
     "metadata": {},
     "output_type": "execute_result"
    },
    {
     "data": {
      "image/png": "[encoded data removed]",
      "text/plain": [
       "<Figure size 432x288 with 1 Axes>"
      ]
     },
     "metadata": {
      "needs_background": "light"
     },
     "output_type": "display_data"
    }
   ],
   "source": [
    "dataSet[\"idle_men\"].hist()"
   ]
  },
  {
   "cell_type": "code",
   "execution_count": 2553,
   "id": "34ab6deb",
   "metadata": {},
   "outputs": [
    {
     "data": {
      "image/png": "[encoded data removed]",
      "text/plain": [
       "<Figure size 432x288 with 1 Axes>"
      ]
     },
     "metadata": {
      "needs_background": "light"
     },
     "output_type": "display_data"
    }
   ],
   "source": [
    "plt.boxplot(dataSet[\"idle_men\"])\n",
    "plt.show()"
   ]
  },
  {
   "cell_type": "code",
   "execution_count": 2554,
   "id": "42c8b5f1",
   "metadata": {},
   "outputs": [
    {
     "name": "stdout",
     "output_type": "stream",
     "text": [
      "0.0\n",
      "0.0\n"
     ]
    }
   ],
   "source": [
    "print(dataSet['idle_men'].quantile(0.10))\n",
    "print(dataSet['idle_men'].quantile(0.90))"
   ]
  },
  {
   "cell_type": "code",
   "execution_count": 2555,
   "id": "ca5b380c",
   "metadata": {},
   "outputs": [
    {
     "name": "stdout",
     "output_type": "stream",
     "text": [
      "9.855079123524012\n",
      "0\n"
     ]
    }
   ],
   "source": [
    "print(dataSet['idle_men'].skew())\n",
    "\n",
    "dataSet['idle_men']=np.where(dataSet['idle_men'] < 0.0 , 0.0 , dataSet['idle_men'])\n",
    "dataSet['idle_men']=np.where(dataSet['idle_men'] > 0.0 , 0.0 , dataSet['idle_men'])\n",
    "\n",
    "print(dataSet['idle_men'].skew())"
   ]
  },
  {
   "cell_type": "code",
   "execution_count": 2556,
   "id": "a59525cd",
   "metadata": {},
   "outputs": [
    {
     "data": {
      "image/png": "[encoded data removed]",
      "text/plain": [
       "<Figure size 432x288 with 1 Axes>"
      ]
     },
     "metadata": {
      "needs_background": "light"
     },
     "output_type": "display_data"
    }
   ],
   "source": [
    "plt.boxplot(dataSet[\"idle_men\"])\n",
    "plt.show()"
   ]
  },
  {
   "cell_type": "code",
   "execution_count": 2557,
   "id": "959262f8",
   "metadata": {},
   "outputs": [
    {
     "data": {
      "text/plain": [
       "<AxesSubplot:>"
      ]
     },
     "execution_count": 2557,
     "metadata": {},
     "output_type": "execute_result"
    },
    {
     "data": {
      "image/png": "[encoded data removed]",
      "text/plain": [
       "<Figure size 432x288 with 1 Axes>"
      ]
     },
     "metadata": {
      "needs_background": "light"
     },
     "output_type": "display_data"
    }
   ],
   "source": [
    "dataSet[\"idle_men\"].hist()"
   ]
  },
  {
   "cell_type": "code",
   "execution_count": 2558,
   "id": "1dfc05c8",
   "metadata": {},
   "outputs": [
    {
     "data": {
      "text/plain": [
       "date                     0.451140\n",
       "quarter                  0.386482\n",
       "day                     -0.021836\n",
       "team                     0.009848\n",
       "targeted_productivity   -0.852990\n",
       "smv                      0.405937\n",
       "wip                     -0.905825\n",
       "over_time                0.673287\n",
       "incentive                0.354974\n",
       "idle_time                0.000000\n",
       "idle_men                 0.000000\n",
       "no_of_style_change       2.942506\n",
       "no_of_workers           -0.110965\n",
       "actual_productivity     -0.807492\n",
       "department_finishing     1.440516\n",
       "department_finishing     1.391345\n",
       "department_sweing       -0.313258\n",
       "dtype: float64"
      ]
     },
     "execution_count": 2558,
     "metadata": {},
     "output_type": "execute_result"
    }
   ],
   "source": [
    "dataSet.skew()"
   ]
  },
  {
   "cell_type": "code",
   "execution_count": 2559,
   "id": "5d3cf402",
   "metadata": {},
   "outputs": [
    {
     "name": "stdout",
     "output_type": "stream",
     "text": [
      "0.0\n",
      "1.0\n"
     ]
    }
   ],
   "source": [
    "print(dataSet['no_of_style_change'].quantile(0.10))\n",
    "print(dataSet['no_of_style_change'].quantile(0.90))"
   ]
  },
  {
   "cell_type": "code",
   "execution_count": 2560,
   "id": "19e6add7",
   "metadata": {},
   "outputs": [
    {
     "name": "stdout",
     "output_type": "stream",
     "text": [
      "2.9425059460671514\n",
      "2.3013315590232306\n"
     ]
    }
   ],
   "source": [
    "print(dataSet['no_of_style_change'].skew())\n",
    "\n",
    "dataSet['no_of_style_change']=np.where(dataSet['no_of_style_change'] < 0.0 , 0.0 , dataSet['no_of_style_change'])\n",
    "dataSet['no_of_style_change']=np.where(dataSet['no_of_style_change'] > 1.0 , 1.0 , dataSet['no_of_style_change'])\n",
    "\n",
    "print(dataSet['no_of_style_change'].skew())"
   ]
  },
  {
   "cell_type": "code",
   "execution_count": 2561,
   "id": "3fec3c40",
   "metadata": {},
   "outputs": [
    {
     "data": {
      "text/plain": [
       "date                     0.451140\n",
       "quarter                  0.386482\n",
       "day                     -0.021836\n",
       "team                     0.009848\n",
       "targeted_productivity   -0.852990\n",
       "smv                      0.405937\n",
       "wip                     -0.905825\n",
       "over_time                0.673287\n",
       "incentive                0.354974\n",
       "idle_time                0.000000\n",
       "idle_men                 0.000000\n",
       "no_of_style_change       2.301332\n",
       "no_of_workers           -0.110965\n",
       "actual_productivity     -0.807492\n",
       "department_finishing     1.440516\n",
       "department_finishing     1.391345\n",
       "department_sweing       -0.313258\n",
       "dtype: float64"
      ]
     },
     "execution_count": 2561,
     "metadata": {},
     "output_type": "execute_result"
    }
   ],
   "source": [
    "dataSet.skew()"
   ]
  },
  {
   "cell_type": "code",
   "execution_count": 2562,
   "id": "fa56ca4f",
   "metadata": {},
   "outputs": [
    {
     "name": "stdout",
     "output_type": "stream",
     "text": [
      "0.0\n",
      "1.0\n"
     ]
    }
   ],
   "source": [
    "print(dataSet['no_of_style_change'].quantile(0.10))\n",
    "print(dataSet['no_of_style_change'].quantile(0.90))"
   ]
  },
  {
   "cell_type": "code",
   "execution_count": 2563,
   "id": "faf9f891",
   "metadata": {},
   "outputs": [
    {
     "data": {
      "text/plain": [
       "<AxesSubplot:>"
      ]
     },
     "execution_count": 2563,
     "metadata": {},
     "output_type": "execute_result"
    },
    {
     "data": {
      "image/png": "[encoded data removed]",
      "text/plain": [
       "<Figure size 432x288 with 1 Axes>"
      ]
     },
     "metadata": {
      "needs_background": "light"
     },
     "output_type": "display_data"
    }
   ],
   "source": [
    "dataSet[\"no_of_style_change\"].hist()"
   ]
  },
  {
   "cell_type": "code",
   "execution_count": 2564,
   "id": "bd890b58",
   "metadata": {},
   "outputs": [
    {
     "data": {
      "image/png": "[encoded data removed]",
      "text/plain": [
       "<Figure size 432x288 with 1 Axes>"
      ]
     },
     "metadata": {
      "needs_background": "light"
     },
     "output_type": "display_data"
    }
   ],
   "source": [
    "plt.boxplot(dataSet[\"no_of_style_change\"])\n",
    "plt.show()"
   ]
  },
  {
   "cell_type": "code",
   "execution_count": 2565,
   "id": "d995500c",
   "metadata": {},
   "outputs": [
    {
     "name": "stdout",
     "output_type": "stream",
     "text": [
      "0.0\n",
      "1.0\n"
     ]
    }
   ],
   "source": [
    "print(dataSet['department_finishing'].quantile(0.10))\n",
    "print(dataSet['department_finishing'].quantile(0.90))"
   ]
  },
  {
   "cell_type": "code",
   "execution_count": 2566,
   "id": "7a3dccd5",
   "metadata": {},
   "outputs": [
    {
     "name": "stdout",
     "output_type": "stream",
     "text": [
      "1.440516022770846\n",
      "1.440516022770846\n"
     ]
    }
   ],
   "source": [
    "print(dataSet['department_finishing'].skew())\n",
    "\n",
    "dataSet['department_finishing']=np.where(dataSet['department_finishing'] < 0.0 , 0.0 , dataSet['department_finishing'])\n",
    "dataSet['department_finishing']=np.where(dataSet['department_finishing'] > 1.0 , 1.0 , dataSet['department_finishing'])\n",
    "\n",
    "print(dataSet['department_finishing'].skew())"
   ]
  },
  {
   "cell_type": "code",
   "execution_count": 2567,
   "id": "01c14d81",
   "metadata": {},
   "outputs": [
    {
     "name": "stdout",
     "output_type": "stream",
     "text": [
      "0\n"
     ]
    }
   ],
   "source": [
    "dataSet[\"no_of_style_change\"]=dataSet[\"no_of_style_change\"].map(lambda i: np.log(i) if i> 0 else 0)\n",
    "print(dataSet['no_of_style_change'].skew())\n"
   ]
  },
  {
   "cell_type": "code",
   "execution_count": 2568,
   "id": "637d6aa2",
   "metadata": {},
   "outputs": [
    {
     "data": {
      "text/plain": [
       "date                     0.451140\n",
       "quarter                  0.386482\n",
       "day                     -0.021836\n",
       "team                     0.009848\n",
       "targeted_productivity   -0.852990\n",
       "smv                      0.405937\n",
       "wip                     -0.905825\n",
       "over_time                0.673287\n",
       "incentive                0.354974\n",
       "idle_time                0.000000\n",
       "idle_men                 0.000000\n",
       "no_of_style_change       0.000000\n",
       "no_of_workers           -0.110965\n",
       "actual_productivity     -0.807492\n",
       "department_finishing     1.440516\n",
       "department_finishing     1.391345\n",
       "department_sweing       -0.313258\n",
       "dtype: float64"
      ]
     },
     "execution_count": 2568,
     "metadata": {},
     "output_type": "execute_result"
    }
   ],
   "source": [
    "dataSet.skew()"
   ]
  },
  {
   "cell_type": "code",
   "execution_count": 2569,
   "id": "0e1ff5e6",
   "metadata": {},
   "outputs": [
    {
     "name": "stdout",
     "output_type": "stream",
     "text": [
      "0\n"
     ]
    }
   ],
   "source": [
    "dataSet[\"department_finishing\"]=dataSet[\"department_finishing\"].map(lambda i: np.log(i) if i> 0 else 0)\n",
    "print(dataSet['department_finishing'].skew())"
   ]
  },
  {
   "cell_type": "code",
   "execution_count": 2570,
   "id": "b281a0e3",
   "metadata": {},
   "outputs": [
    {
     "name": "stdout",
     "output_type": "stream",
     "text": [
      "0\n"
     ]
    }
   ],
   "source": [
    "dataSet[\"department_finishing\"]=dataSet[\"department_finishing\"].map(lambda i: np.log(i) if i> 0 else 0)\n",
    "print(dataSet['department_finishing'].skew())"
   ]
  },
  {
   "cell_type": "code",
   "execution_count": 2571,
   "id": "9ff03bdb",
   "metadata": {},
   "outputs": [
    {
     "data": {
      "text/plain": [
       "Index(['date', 'quarter', 'day', 'team', 'targeted_productivity', 'smv', 'wip',\n",
       "       'over_time', 'incentive', 'idle_time', 'idle_men', 'no_of_style_change',\n",
       "       'no_of_workers', 'actual_productivity', 'department_finishing',\n",
       "       'department_finishing ', 'department_sweing'],\n",
       "      dtype='object')"
      ]
     },
     "execution_count": 2571,
     "metadata": {},
     "output_type": "execute_result"
    }
   ],
   "source": [
    "dataSet.columns"
   ]
  },
  {
   "cell_type": "code",
   "execution_count": 2572,
   "id": "8e37836a",
   "metadata": {},
   "outputs": [],
   "source": [
    "dataSet.columns=['date', 'quarter', 'day', 'team', 'targeted_productivity', 'smv', 'wip',\n",
    "       'over_time', 'incentive', 'idle_time', 'idle_men', 'no_of_style_change',\n",
    "       'no_of_workers', 'actual_productivity', 'department_finishing',\n",
    "       'department_finishing+', 'department_sweing']"
   ]
  },
  {
   "cell_type": "code",
   "execution_count": 2573,
   "id": "16339c16",
   "metadata": {},
   "outputs": [
    {
     "data": {
      "text/plain": [
       "Index(['date', 'quarter', 'day', 'team', 'targeted_productivity', 'smv', 'wip',\n",
       "       'over_time', 'incentive', 'idle_time', 'idle_men', 'no_of_style_change',\n",
       "       'no_of_workers', 'actual_productivity', 'department_finishing',\n",
       "       'department_finishing+', 'department_sweing'],\n",
       "      dtype='object')"
      ]
     },
     "execution_count": 2573,
     "metadata": {},
     "output_type": "execute_result"
    }
   ],
   "source": [
    "dataSet.columns"
   ]
  },
  {
   "cell_type": "code",
   "execution_count": 2574,
   "id": "a13fe72d",
   "metadata": {},
   "outputs": [
    {
     "name": "stdout",
     "output_type": "stream",
     "text": [
      "<class 'pandas.core.frame.DataFrame'>\n",
      "RangeIndex: 1197 entries, 0 to 1196\n",
      "Data columns (total 17 columns):\n",
      " #   Column                 Non-Null Count  Dtype  \n",
      "---  ------                 --------------  -----  \n",
      " 0   date                   1197 non-null   int32  \n",
      " 1   quarter                1197 non-null   int64  \n",
      " 2   day                    1197 non-null   int64  \n",
      " 3   team                   1197 non-null   int64  \n",
      " 4   targeted_productivity  1197 non-null   float64\n",
      " 5   smv                    1197 non-null   float64\n",
      " 6   wip                    1197 non-null   float64\n",
      " 7   over_time              1197 non-null   int64  \n",
      " 8   incentive              1197 non-null   float64\n",
      " 9   idle_time              1197 non-null   float64\n",
      " 10  idle_men               1197 non-null   float64\n",
      " 11  no_of_style_change     1197 non-null   float64\n",
      " 12  no_of_workers          1197 non-null   int32  \n",
      " 13  actual_productivity    1197 non-null   float64\n",
      " 14  department_finishing   1197 non-null   int64  \n",
      " 15  department_finishing+  1197 non-null   uint8  \n",
      " 16  department_sweing      1197 non-null   uint8  \n",
      "dtypes: float64(8), int32(2), int64(5), uint8(2)\n",
      "memory usage: 133.4 KB\n"
     ]
    }
   ],
   "source": [
    "dataSet.info()"
   ]
  },
  {
   "cell_type": "code",
   "execution_count": 2575,
   "id": "c8cd1d8c",
   "metadata": {},
   "outputs": [
    {
     "data": {
      "text/html": [
       "<div>\n",
       "<style scoped>\n",
       "    .dataframe tbody tr th:only-of-type {\n",
       "        vertical-align: middle;\n",
       "    }\n",
       "\n",
       "    .dataframe tbody tr th {\n",
       "        vertical-align: top;\n",
       "    }\n",
       "\n",
       "    .dataframe thead th {\n",
       "        text-align: right;\n",
       "    }\n",
       "</style>\n",
       "<table border=\"1\" class=\"dataframe\">\n",
       "  <thead>\n",
       "    <tr style=\"text-align: right;\">\n",
       "      <th></th>\n",
       "      <th>date</th>\n",
       "      <th>quarter</th>\n",
       "      <th>day</th>\n",
       "      <th>team</th>\n",
       "      <th>targeted_productivity</th>\n",
       "      <th>smv</th>\n",
       "      <th>wip</th>\n",
       "      <th>over_time</th>\n",
       "      <th>incentive</th>\n",
       "      <th>idle_time</th>\n",
       "      <th>idle_men</th>\n",
       "      <th>no_of_style_change</th>\n",
       "      <th>no_of_workers</th>\n",
       "      <th>actual_productivity</th>\n",
       "      <th>department_finishing</th>\n",
       "      <th>department_finishing+</th>\n",
       "      <th>department_sweing</th>\n",
       "    </tr>\n",
       "  </thead>\n",
       "  <tbody>\n",
       "    <tr>\n",
       "      <th>0</th>\n",
       "      <td>112015</td>\n",
       "      <td>1</td>\n",
       "      <td>6</td>\n",
       "      <td>8</td>\n",
       "      <td>0.80</td>\n",
       "      <td>26.16</td>\n",
       "      <td>1108.000000</td>\n",
       "      <td>7080</td>\n",
       "      <td>63.0</td>\n",
       "      <td>0.0</td>\n",
       "      <td>0.0</td>\n",
       "      <td>0.0</td>\n",
       "      <td>59</td>\n",
       "      <td>0.940725</td>\n",
       "      <td>0</td>\n",
       "      <td>0</td>\n",
       "      <td>1</td>\n",
       "    </tr>\n",
       "    <tr>\n",
       "      <th>1</th>\n",
       "      <td>112015</td>\n",
       "      <td>1</td>\n",
       "      <td>6</td>\n",
       "      <td>1</td>\n",
       "      <td>0.75</td>\n",
       "      <td>3.94</td>\n",
       "      <td>1190.465991</td>\n",
       "      <td>960</td>\n",
       "      <td>0.0</td>\n",
       "      <td>0.0</td>\n",
       "      <td>0.0</td>\n",
       "      <td>0.0</td>\n",
       "      <td>8</td>\n",
       "      <td>0.886500</td>\n",
       "      <td>0</td>\n",
       "      <td>1</td>\n",
       "      <td>0</td>\n",
       "    </tr>\n",
       "    <tr>\n",
       "      <th>2</th>\n",
       "      <td>112015</td>\n",
       "      <td>1</td>\n",
       "      <td>6</td>\n",
       "      <td>11</td>\n",
       "      <td>0.80</td>\n",
       "      <td>11.41</td>\n",
       "      <td>968.000000</td>\n",
       "      <td>3660</td>\n",
       "      <td>50.0</td>\n",
       "      <td>0.0</td>\n",
       "      <td>0.0</td>\n",
       "      <td>0.0</td>\n",
       "      <td>30</td>\n",
       "      <td>0.800570</td>\n",
       "      <td>0</td>\n",
       "      <td>0</td>\n",
       "      <td>1</td>\n",
       "    </tr>\n",
       "    <tr>\n",
       "      <th>3</th>\n",
       "      <td>112015</td>\n",
       "      <td>1</td>\n",
       "      <td>6</td>\n",
       "      <td>12</td>\n",
       "      <td>0.80</td>\n",
       "      <td>11.41</td>\n",
       "      <td>968.000000</td>\n",
       "      <td>3660</td>\n",
       "      <td>50.0</td>\n",
       "      <td>0.0</td>\n",
       "      <td>0.0</td>\n",
       "      <td>0.0</td>\n",
       "      <td>30</td>\n",
       "      <td>0.800570</td>\n",
       "      <td>0</td>\n",
       "      <td>0</td>\n",
       "      <td>1</td>\n",
       "    </tr>\n",
       "    <tr>\n",
       "      <th>4</th>\n",
       "      <td>112015</td>\n",
       "      <td>1</td>\n",
       "      <td>6</td>\n",
       "      <td>6</td>\n",
       "      <td>0.80</td>\n",
       "      <td>25.90</td>\n",
       "      <td>1170.000000</td>\n",
       "      <td>1920</td>\n",
       "      <td>50.0</td>\n",
       "      <td>0.0</td>\n",
       "      <td>0.0</td>\n",
       "      <td>0.0</td>\n",
       "      <td>56</td>\n",
       "      <td>0.800382</td>\n",
       "      <td>0</td>\n",
       "      <td>0</td>\n",
       "      <td>1</td>\n",
       "    </tr>\n",
       "  </tbody>\n",
       "</table>\n",
       "</div>"
      ],
      "text/plain": [
       "     date  quarter  day  team  targeted_productivity    smv          wip  \\\n",
       "0  112015        1    6     8                   0.80  26.16  1108.000000   \n",
       "1  112015        1    6     1                   0.75   3.94  1190.465991   \n",
       "2  112015        1    6    11                   0.80  11.41   968.000000   \n",
       "3  112015        1    6    12                   0.80  11.41   968.000000   \n",
       "4  112015        1    6     6                   0.80  25.90  1170.000000   \n",
       "\n",
       "   over_time  incentive  idle_time  idle_men  no_of_style_change  \\\n",
       "0       7080       63.0        0.0       0.0                 0.0   \n",
       "1        960        0.0        0.0       0.0                 0.0   \n",
       "2       3660       50.0        0.0       0.0                 0.0   \n",
       "3       3660       50.0        0.0       0.0                 0.0   \n",
       "4       1920       50.0        0.0       0.0                 0.0   \n",
       "\n",
       "   no_of_workers  actual_productivity  department_finishing  \\\n",
       "0             59             0.940725                     0   \n",
       "1              8             0.886500                     0   \n",
       "2             30             0.800570                     0   \n",
       "3             30             0.800570                     0   \n",
       "4             56             0.800382                     0   \n",
       "\n",
       "   department_finishing+  department_sweing  \n",
       "0                      0                  1  \n",
       "1                      1                  0  \n",
       "2                      0                  1  \n",
       "3                      0                  1  \n",
       "4                      0                  1  "
      ]
     },
     "execution_count": 2575,
     "metadata": {},
     "output_type": "execute_result"
    }
   ],
   "source": [
    "dataSet.head()"
   ]
  },
  {
   "cell_type": "code",
   "execution_count": 2576,
   "id": "cd6f84e6",
   "metadata": {},
   "outputs": [
    {
     "name": "stdout",
     "output_type": "stream",
     "text": [
      "0.0\n",
      "1.0\n"
     ]
    }
   ],
   "source": [
    "print(dataSet['department_finishing+'].quantile(0.10))\n",
    "print(dataSet['department_finishing+'].quantile(0.90))"
   ]
  },
  {
   "cell_type": "code",
   "execution_count": 2577,
   "id": "6c30cb6e",
   "metadata": {},
   "outputs": [
    {
     "name": "stdout",
     "output_type": "stream",
     "text": [
      "1.3913454590967615\n",
      "1.3913454590967615\n"
     ]
    }
   ],
   "source": [
    "print(dataSet['department_finishing+'].skew())\n",
    "\n",
    "dataSet['department_finishing+']=np.where(dataSet['department_finishing+'] < 0.0 , 0.0 , dataSet['department_finishing+'])\n",
    "dataSet['department_finishing+']=np.where(dataSet['department_finishing+'] > 1.0 , 1.0 , dataSet['department_finishing+'])\n",
    "\n",
    "print(dataSet['department_finishing+'].skew())"
   ]
  },
  {
   "cell_type": "code",
   "execution_count": 2578,
   "id": "3447f011",
   "metadata": {},
   "outputs": [
    {
     "name": "stdout",
     "output_type": "stream",
     "text": [
      "0\n"
     ]
    }
   ],
   "source": [
    "dataSet[\"department_finishing+\"]=dataSet[\"department_finishing+\"].map(lambda i: np.log(i) if i> 0 else 0)\n",
    "print(dataSet['department_finishing+'].skew())"
   ]
  },
  {
   "cell_type": "code",
   "execution_count": 2579,
   "id": "b6a9cbfc",
   "metadata": {},
   "outputs": [
    {
     "data": {
      "text/plain": [
       "date                     0.451140\n",
       "quarter                  0.386482\n",
       "day                     -0.021836\n",
       "team                     0.009848\n",
       "targeted_productivity   -0.852990\n",
       "smv                      0.405937\n",
       "wip                     -0.905825\n",
       "over_time                0.673287\n",
       "incentive                0.354974\n",
       "idle_time                0.000000\n",
       "idle_men                 0.000000\n",
       "no_of_style_change       0.000000\n",
       "no_of_workers           -0.110965\n",
       "actual_productivity     -0.807492\n",
       "department_finishing     0.000000\n",
       "department_finishing+    0.000000\n",
       "department_sweing       -0.313258\n",
       "dtype: float64"
      ]
     },
     "execution_count": 2579,
     "metadata": {},
     "output_type": "execute_result"
    }
   ],
   "source": [
    "dataSet.skew()"
   ]
  },
  {
   "cell_type": "code",
   "execution_count": 2580,
   "id": "9c41e252",
   "metadata": {},
   "outputs": [
    {
     "data": {
      "text/html": [
       "<div>\n",
       "<style scoped>\n",
       "    .dataframe tbody tr th:only-of-type {\n",
       "        vertical-align: middle;\n",
       "    }\n",
       "\n",
       "    .dataframe tbody tr th {\n",
       "        vertical-align: top;\n",
       "    }\n",
       "\n",
       "    .dataframe thead th {\n",
       "        text-align: right;\n",
       "    }\n",
       "</style>\n",
       "<table border=\"1\" class=\"dataframe\">\n",
       "  <thead>\n",
       "    <tr style=\"text-align: right;\">\n",
       "      <th></th>\n",
       "      <th>date</th>\n",
       "      <th>quarter</th>\n",
       "      <th>day</th>\n",
       "      <th>team</th>\n",
       "      <th>targeted_productivity</th>\n",
       "      <th>smv</th>\n",
       "      <th>wip</th>\n",
       "      <th>over_time</th>\n",
       "      <th>incentive</th>\n",
       "      <th>idle_time</th>\n",
       "      <th>idle_men</th>\n",
       "      <th>no_of_style_change</th>\n",
       "      <th>no_of_workers</th>\n",
       "      <th>actual_productivity</th>\n",
       "      <th>department_finishing</th>\n",
       "      <th>department_finishing+</th>\n",
       "      <th>department_sweing</th>\n",
       "    </tr>\n",
       "  </thead>\n",
       "  <tbody>\n",
       "    <tr>\n",
       "      <th>0</th>\n",
       "      <td>112015</td>\n",
       "      <td>1</td>\n",
       "      <td>6</td>\n",
       "      <td>8</td>\n",
       "      <td>0.80</td>\n",
       "      <td>26.16</td>\n",
       "      <td>1108.000000</td>\n",
       "      <td>7080</td>\n",
       "      <td>63.0</td>\n",
       "      <td>0.0</td>\n",
       "      <td>0.0</td>\n",
       "      <td>0.0</td>\n",
       "      <td>59</td>\n",
       "      <td>0.940725</td>\n",
       "      <td>0</td>\n",
       "      <td>0.0</td>\n",
       "      <td>1</td>\n",
       "    </tr>\n",
       "    <tr>\n",
       "      <th>1</th>\n",
       "      <td>112015</td>\n",
       "      <td>1</td>\n",
       "      <td>6</td>\n",
       "      <td>1</td>\n",
       "      <td>0.75</td>\n",
       "      <td>3.94</td>\n",
       "      <td>1190.465991</td>\n",
       "      <td>960</td>\n",
       "      <td>0.0</td>\n",
       "      <td>0.0</td>\n",
       "      <td>0.0</td>\n",
       "      <td>0.0</td>\n",
       "      <td>8</td>\n",
       "      <td>0.886500</td>\n",
       "      <td>0</td>\n",
       "      <td>0.0</td>\n",
       "      <td>0</td>\n",
       "    </tr>\n",
       "    <tr>\n",
       "      <th>2</th>\n",
       "      <td>112015</td>\n",
       "      <td>1</td>\n",
       "      <td>6</td>\n",
       "      <td>11</td>\n",
       "      <td>0.80</td>\n",
       "      <td>11.41</td>\n",
       "      <td>968.000000</td>\n",
       "      <td>3660</td>\n",
       "      <td>50.0</td>\n",
       "      <td>0.0</td>\n",
       "      <td>0.0</td>\n",
       "      <td>0.0</td>\n",
       "      <td>30</td>\n",
       "      <td>0.800570</td>\n",
       "      <td>0</td>\n",
       "      <td>0.0</td>\n",
       "      <td>1</td>\n",
       "    </tr>\n",
       "    <tr>\n",
       "      <th>3</th>\n",
       "      <td>112015</td>\n",
       "      <td>1</td>\n",
       "      <td>6</td>\n",
       "      <td>12</td>\n",
       "      <td>0.80</td>\n",
       "      <td>11.41</td>\n",
       "      <td>968.000000</td>\n",
       "      <td>3660</td>\n",
       "      <td>50.0</td>\n",
       "      <td>0.0</td>\n",
       "      <td>0.0</td>\n",
       "      <td>0.0</td>\n",
       "      <td>30</td>\n",
       "      <td>0.800570</td>\n",
       "      <td>0</td>\n",
       "      <td>0.0</td>\n",
       "      <td>1</td>\n",
       "    </tr>\n",
       "    <tr>\n",
       "      <th>4</th>\n",
       "      <td>112015</td>\n",
       "      <td>1</td>\n",
       "      <td>6</td>\n",
       "      <td>6</td>\n",
       "      <td>0.80</td>\n",
       "      <td>25.90</td>\n",
       "      <td>1170.000000</td>\n",
       "      <td>1920</td>\n",
       "      <td>50.0</td>\n",
       "      <td>0.0</td>\n",
       "      <td>0.0</td>\n",
       "      <td>0.0</td>\n",
       "      <td>56</td>\n",
       "      <td>0.800382</td>\n",
       "      <td>0</td>\n",
       "      <td>0.0</td>\n",
       "      <td>1</td>\n",
       "    </tr>\n",
       "  </tbody>\n",
       "</table>\n",
       "</div>"
      ],
      "text/plain": [
       "     date  quarter  day  team  targeted_productivity    smv          wip  \\\n",
       "0  112015        1    6     8                   0.80  26.16  1108.000000   \n",
       "1  112015        1    6     1                   0.75   3.94  1190.465991   \n",
       "2  112015        1    6    11                   0.80  11.41   968.000000   \n",
       "3  112015        1    6    12                   0.80  11.41   968.000000   \n",
       "4  112015        1    6     6                   0.80  25.90  1170.000000   \n",
       "\n",
       "   over_time  incentive  idle_time  idle_men  no_of_style_change  \\\n",
       "0       7080       63.0        0.0       0.0                 0.0   \n",
       "1        960        0.0        0.0       0.0                 0.0   \n",
       "2       3660       50.0        0.0       0.0                 0.0   \n",
       "3       3660       50.0        0.0       0.0                 0.0   \n",
       "4       1920       50.0        0.0       0.0                 0.0   \n",
       "\n",
       "   no_of_workers  actual_productivity  department_finishing  \\\n",
       "0             59             0.940725                     0   \n",
       "1              8             0.886500                     0   \n",
       "2             30             0.800570                     0   \n",
       "3             30             0.800570                     0   \n",
       "4             56             0.800382                     0   \n",
       "\n",
       "   department_finishing+  department_sweing  \n",
       "0                    0.0                  1  \n",
       "1                    0.0                  0  \n",
       "2                    0.0                  1  \n",
       "3                    0.0                  1  \n",
       "4                    0.0                  1  "
      ]
     },
     "execution_count": 2580,
     "metadata": {},
     "output_type": "execute_result"
    }
   ],
   "source": [
    "dataSet.head()"
   ]
  },
  {
   "cell_type": "code",
   "execution_count": 2581,
   "id": "cc75a725",
   "metadata": {},
   "outputs": [],
   "source": [
    "dataSet.wip=dataSet.wip.astype(int)"
   ]
  },
  {
   "cell_type": "code",
   "execution_count": 2582,
   "id": "6aef0133",
   "metadata": {},
   "outputs": [
    {
     "name": "stdout",
     "output_type": "stream",
     "text": [
      "<class 'pandas.core.frame.DataFrame'>\n",
      "RangeIndex: 1197 entries, 0 to 1196\n",
      "Data columns (total 17 columns):\n",
      " #   Column                 Non-Null Count  Dtype  \n",
      "---  ------                 --------------  -----  \n",
      " 0   date                   1197 non-null   int32  \n",
      " 1   quarter                1197 non-null   int64  \n",
      " 2   day                    1197 non-null   int64  \n",
      " 3   team                   1197 non-null   int64  \n",
      " 4   targeted_productivity  1197 non-null   float64\n",
      " 5   smv                    1197 non-null   float64\n",
      " 6   wip                    1197 non-null   int32  \n",
      " 7   over_time              1197 non-null   int64  \n",
      " 8   incentive              1197 non-null   float64\n",
      " 9   idle_time              1197 non-null   float64\n",
      " 10  idle_men               1197 non-null   float64\n",
      " 11  no_of_style_change     1197 non-null   float64\n",
      " 12  no_of_workers          1197 non-null   int32  \n",
      " 13  actual_productivity    1197 non-null   float64\n",
      " 14  department_finishing   1197 non-null   int64  \n",
      " 15  department_finishing+  1197 non-null   float64\n",
      " 16  department_sweing      1197 non-null   uint8  \n",
      "dtypes: float64(8), int32(3), int64(5), uint8(1)\n",
      "memory usage: 136.9 KB\n"
     ]
    }
   ],
   "source": [
    "dataSet.info()"
   ]
  },
  {
   "cell_type": "code",
   "execution_count": 2583,
   "id": "ae44232e",
   "metadata": {},
   "outputs": [
    {
     "data": {
      "text/html": [
       "<div>\n",
       "<style scoped>\n",
       "    .dataframe tbody tr th:only-of-type {\n",
       "        vertical-align: middle;\n",
       "    }\n",
       "\n",
       "    .dataframe tbody tr th {\n",
       "        vertical-align: top;\n",
       "    }\n",
       "\n",
       "    .dataframe thead th {\n",
       "        text-align: right;\n",
       "    }\n",
       "</style>\n",
       "<table border=\"1\" class=\"dataframe\">\n",
       "  <thead>\n",
       "    <tr style=\"text-align: right;\">\n",
       "      <th></th>\n",
       "      <th>date</th>\n",
       "      <th>quarter</th>\n",
       "      <th>day</th>\n",
       "      <th>team</th>\n",
       "      <th>targeted_productivity</th>\n",
       "      <th>smv</th>\n",
       "      <th>wip</th>\n",
       "      <th>over_time</th>\n",
       "      <th>incentive</th>\n",
       "      <th>idle_time</th>\n",
       "      <th>idle_men</th>\n",
       "      <th>no_of_style_change</th>\n",
       "      <th>no_of_workers</th>\n",
       "      <th>actual_productivity</th>\n",
       "      <th>department_finishing</th>\n",
       "      <th>department_finishing+</th>\n",
       "      <th>department_sweing</th>\n",
       "    </tr>\n",
       "  </thead>\n",
       "  <tbody>\n",
       "    <tr>\n",
       "      <th>0</th>\n",
       "      <td>112015</td>\n",
       "      <td>1</td>\n",
       "      <td>6</td>\n",
       "      <td>8</td>\n",
       "      <td>0.80</td>\n",
       "      <td>26.16</td>\n",
       "      <td>1108</td>\n",
       "      <td>7080</td>\n",
       "      <td>63.0</td>\n",
       "      <td>0.0</td>\n",
       "      <td>0.0</td>\n",
       "      <td>0.0</td>\n",
       "      <td>59</td>\n",
       "      <td>0.940725</td>\n",
       "      <td>0</td>\n",
       "      <td>0.0</td>\n",
       "      <td>1</td>\n",
       "    </tr>\n",
       "    <tr>\n",
       "      <th>1</th>\n",
       "      <td>112015</td>\n",
       "      <td>1</td>\n",
       "      <td>6</td>\n",
       "      <td>1</td>\n",
       "      <td>0.75</td>\n",
       "      <td>3.94</td>\n",
       "      <td>1190</td>\n",
       "      <td>960</td>\n",
       "      <td>0.0</td>\n",
       "      <td>0.0</td>\n",
       "      <td>0.0</td>\n",
       "      <td>0.0</td>\n",
       "      <td>8</td>\n",
       "      <td>0.886500</td>\n",
       "      <td>0</td>\n",
       "      <td>0.0</td>\n",
       "      <td>0</td>\n",
       "    </tr>\n",
       "    <tr>\n",
       "      <th>2</th>\n",
       "      <td>112015</td>\n",
       "      <td>1</td>\n",
       "      <td>6</td>\n",
       "      <td>11</td>\n",
       "      <td>0.80</td>\n",
       "      <td>11.41</td>\n",
       "      <td>968</td>\n",
       "      <td>3660</td>\n",
       "      <td>50.0</td>\n",
       "      <td>0.0</td>\n",
       "      <td>0.0</td>\n",
       "      <td>0.0</td>\n",
       "      <td>30</td>\n",
       "      <td>0.800570</td>\n",
       "      <td>0</td>\n",
       "      <td>0.0</td>\n",
       "      <td>1</td>\n",
       "    </tr>\n",
       "    <tr>\n",
       "      <th>3</th>\n",
       "      <td>112015</td>\n",
       "      <td>1</td>\n",
       "      <td>6</td>\n",
       "      <td>12</td>\n",
       "      <td>0.80</td>\n",
       "      <td>11.41</td>\n",
       "      <td>968</td>\n",
       "      <td>3660</td>\n",
       "      <td>50.0</td>\n",
       "      <td>0.0</td>\n",
       "      <td>0.0</td>\n",
       "      <td>0.0</td>\n",
       "      <td>30</td>\n",
       "      <td>0.800570</td>\n",
       "      <td>0</td>\n",
       "      <td>0.0</td>\n",
       "      <td>1</td>\n",
       "    </tr>\n",
       "    <tr>\n",
       "      <th>4</th>\n",
       "      <td>112015</td>\n",
       "      <td>1</td>\n",
       "      <td>6</td>\n",
       "      <td>6</td>\n",
       "      <td>0.80</td>\n",
       "      <td>25.90</td>\n",
       "      <td>1170</td>\n",
       "      <td>1920</td>\n",
       "      <td>50.0</td>\n",
       "      <td>0.0</td>\n",
       "      <td>0.0</td>\n",
       "      <td>0.0</td>\n",
       "      <td>56</td>\n",
       "      <td>0.800382</td>\n",
       "      <td>0</td>\n",
       "      <td>0.0</td>\n",
       "      <td>1</td>\n",
       "    </tr>\n",
       "  </tbody>\n",
       "</table>\n",
       "</div>"
      ],
      "text/plain": [
       "     date  quarter  day  team  targeted_productivity    smv   wip  over_time  \\\n",
       "0  112015        1    6     8                   0.80  26.16  1108       7080   \n",
       "1  112015        1    6     1                   0.75   3.94  1190        960   \n",
       "2  112015        1    6    11                   0.80  11.41   968       3660   \n",
       "3  112015        1    6    12                   0.80  11.41   968       3660   \n",
       "4  112015        1    6     6                   0.80  25.90  1170       1920   \n",
       "\n",
       "   incentive  idle_time  idle_men  no_of_style_change  no_of_workers  \\\n",
       "0       63.0        0.0       0.0                 0.0             59   \n",
       "1        0.0        0.0       0.0                 0.0              8   \n",
       "2       50.0        0.0       0.0                 0.0             30   \n",
       "3       50.0        0.0       0.0                 0.0             30   \n",
       "4       50.0        0.0       0.0                 0.0             56   \n",
       "\n",
       "   actual_productivity  department_finishing  department_finishing+  \\\n",
       "0             0.940725                     0                    0.0   \n",
       "1             0.886500                     0                    0.0   \n",
       "2             0.800570                     0                    0.0   \n",
       "3             0.800570                     0                    0.0   \n",
       "4             0.800382                     0                    0.0   \n",
       "\n",
       "   department_sweing  \n",
       "0                  1  \n",
       "1                  0  \n",
       "2                  1  \n",
       "3                  1  \n",
       "4                  1  "
      ]
     },
     "execution_count": 2583,
     "metadata": {},
     "output_type": "execute_result"
    }
   ],
   "source": [
    "dataSet.head()"
   ]
  },
  {
   "cell_type": "code",
   "execution_count": 2584,
   "id": "43e9c6f3",
   "metadata": {},
   "outputs": [
    {
     "data": {
      "text/html": [
       "<div>\n",
       "<style scoped>\n",
       "    .dataframe tbody tr th:only-of-type {\n",
       "        vertical-align: middle;\n",
       "    }\n",
       "\n",
       "    .dataframe tbody tr th {\n",
       "        vertical-align: top;\n",
       "    }\n",
       "\n",
       "    .dataframe thead th {\n",
       "        text-align: right;\n",
       "    }\n",
       "</style>\n",
       "<table border=\"1\" class=\"dataframe\">\n",
       "  <thead>\n",
       "    <tr style=\"text-align: right;\">\n",
       "      <th></th>\n",
       "      <th>date</th>\n",
       "      <th>quarter</th>\n",
       "      <th>day</th>\n",
       "      <th>team</th>\n",
       "      <th>targeted_productivity</th>\n",
       "      <th>smv</th>\n",
       "      <th>wip</th>\n",
       "      <th>over_time</th>\n",
       "      <th>incentive</th>\n",
       "      <th>idle_time</th>\n",
       "      <th>idle_men</th>\n",
       "      <th>no_of_style_change</th>\n",
       "      <th>no_of_workers</th>\n",
       "      <th>actual_productivity</th>\n",
       "      <th>department_finishing</th>\n",
       "      <th>department_finishing+</th>\n",
       "      <th>department_sweing</th>\n",
       "    </tr>\n",
       "  </thead>\n",
       "  <tbody>\n",
       "    <tr>\n",
       "      <th>0</th>\n",
       "      <td>112015</td>\n",
       "      <td>1</td>\n",
       "      <td>6</td>\n",
       "      <td>8</td>\n",
       "      <td>0.80</td>\n",
       "      <td>26.16</td>\n",
       "      <td>1108</td>\n",
       "      <td>7080</td>\n",
       "      <td>63.0</td>\n",
       "      <td>0.0</td>\n",
       "      <td>0.0</td>\n",
       "      <td>0.0</td>\n",
       "      <td>59</td>\n",
       "      <td>0.940725</td>\n",
       "      <td>0</td>\n",
       "      <td>0.0</td>\n",
       "      <td>1</td>\n",
       "    </tr>\n",
       "    <tr>\n",
       "      <th>1</th>\n",
       "      <td>112015</td>\n",
       "      <td>1</td>\n",
       "      <td>6</td>\n",
       "      <td>1</td>\n",
       "      <td>0.75</td>\n",
       "      <td>3.94</td>\n",
       "      <td>1190</td>\n",
       "      <td>960</td>\n",
       "      <td>0.0</td>\n",
       "      <td>0.0</td>\n",
       "      <td>0.0</td>\n",
       "      <td>0.0</td>\n",
       "      <td>8</td>\n",
       "      <td>0.886500</td>\n",
       "      <td>0</td>\n",
       "      <td>0.0</td>\n",
       "      <td>0</td>\n",
       "    </tr>\n",
       "    <tr>\n",
       "      <th>2</th>\n",
       "      <td>112015</td>\n",
       "      <td>1</td>\n",
       "      <td>6</td>\n",
       "      <td>11</td>\n",
       "      <td>0.80</td>\n",
       "      <td>11.41</td>\n",
       "      <td>968</td>\n",
       "      <td>3660</td>\n",
       "      <td>50.0</td>\n",
       "      <td>0.0</td>\n",
       "      <td>0.0</td>\n",
       "      <td>0.0</td>\n",
       "      <td>30</td>\n",
       "      <td>0.800570</td>\n",
       "      <td>0</td>\n",
       "      <td>0.0</td>\n",
       "      <td>1</td>\n",
       "    </tr>\n",
       "    <tr>\n",
       "      <th>3</th>\n",
       "      <td>112015</td>\n",
       "      <td>1</td>\n",
       "      <td>6</td>\n",
       "      <td>12</td>\n",
       "      <td>0.80</td>\n",
       "      <td>11.41</td>\n",
       "      <td>968</td>\n",
       "      <td>3660</td>\n",
       "      <td>50.0</td>\n",
       "      <td>0.0</td>\n",
       "      <td>0.0</td>\n",
       "      <td>0.0</td>\n",
       "      <td>30</td>\n",
       "      <td>0.800570</td>\n",
       "      <td>0</td>\n",
       "      <td>0.0</td>\n",
       "      <td>1</td>\n",
       "    </tr>\n",
       "    <tr>\n",
       "      <th>4</th>\n",
       "      <td>112015</td>\n",
       "      <td>1</td>\n",
       "      <td>6</td>\n",
       "      <td>6</td>\n",
       "      <td>0.80</td>\n",
       "      <td>25.90</td>\n",
       "      <td>1170</td>\n",
       "      <td>1920</td>\n",
       "      <td>50.0</td>\n",
       "      <td>0.0</td>\n",
       "      <td>0.0</td>\n",
       "      <td>0.0</td>\n",
       "      <td>56</td>\n",
       "      <td>0.800382</td>\n",
       "      <td>0</td>\n",
       "      <td>0.0</td>\n",
       "      <td>1</td>\n",
       "    </tr>\n",
       "    <tr>\n",
       "      <th>...</th>\n",
       "      <td>...</td>\n",
       "      <td>...</td>\n",
       "      <td>...</td>\n",
       "      <td>...</td>\n",
       "      <td>...</td>\n",
       "      <td>...</td>\n",
       "      <td>...</td>\n",
       "      <td>...</td>\n",
       "      <td>...</td>\n",
       "      <td>...</td>\n",
       "      <td>...</td>\n",
       "      <td>...</td>\n",
       "      <td>...</td>\n",
       "      <td>...</td>\n",
       "      <td>...</td>\n",
       "      <td>...</td>\n",
       "      <td>...</td>\n",
       "    </tr>\n",
       "    <tr>\n",
       "      <th>1192</th>\n",
       "      <td>3112015</td>\n",
       "      <td>2</td>\n",
       "      <td>5</td>\n",
       "      <td>10</td>\n",
       "      <td>0.75</td>\n",
       "      <td>2.90</td>\n",
       "      <td>1190</td>\n",
       "      <td>960</td>\n",
       "      <td>0.0</td>\n",
       "      <td>0.0</td>\n",
       "      <td>0.0</td>\n",
       "      <td>0.0</td>\n",
       "      <td>8</td>\n",
       "      <td>0.628333</td>\n",
       "      <td>0</td>\n",
       "      <td>0.0</td>\n",
       "      <td>0</td>\n",
       "    </tr>\n",
       "    <tr>\n",
       "      <th>1193</th>\n",
       "      <td>3112015</td>\n",
       "      <td>2</td>\n",
       "      <td>5</td>\n",
       "      <td>8</td>\n",
       "      <td>0.70</td>\n",
       "      <td>3.90</td>\n",
       "      <td>1190</td>\n",
       "      <td>960</td>\n",
       "      <td>0.0</td>\n",
       "      <td>0.0</td>\n",
       "      <td>0.0</td>\n",
       "      <td>0.0</td>\n",
       "      <td>8</td>\n",
       "      <td>0.625625</td>\n",
       "      <td>0</td>\n",
       "      <td>0.0</td>\n",
       "      <td>0</td>\n",
       "    </tr>\n",
       "    <tr>\n",
       "      <th>1194</th>\n",
       "      <td>3112015</td>\n",
       "      <td>2</td>\n",
       "      <td>5</td>\n",
       "      <td>7</td>\n",
       "      <td>0.65</td>\n",
       "      <td>3.90</td>\n",
       "      <td>1190</td>\n",
       "      <td>960</td>\n",
       "      <td>0.0</td>\n",
       "      <td>0.0</td>\n",
       "      <td>0.0</td>\n",
       "      <td>0.0</td>\n",
       "      <td>8</td>\n",
       "      <td>0.625625</td>\n",
       "      <td>0</td>\n",
       "      <td>0.0</td>\n",
       "      <td>0</td>\n",
       "    </tr>\n",
       "    <tr>\n",
       "      <th>1195</th>\n",
       "      <td>3112015</td>\n",
       "      <td>2</td>\n",
       "      <td>5</td>\n",
       "      <td>9</td>\n",
       "      <td>0.75</td>\n",
       "      <td>2.90</td>\n",
       "      <td>1190</td>\n",
       "      <td>1800</td>\n",
       "      <td>0.0</td>\n",
       "      <td>0.0</td>\n",
       "      <td>0.0</td>\n",
       "      <td>0.0</td>\n",
       "      <td>15</td>\n",
       "      <td>0.505889</td>\n",
       "      <td>0</td>\n",
       "      <td>0.0</td>\n",
       "      <td>0</td>\n",
       "    </tr>\n",
       "    <tr>\n",
       "      <th>1196</th>\n",
       "      <td>3112015</td>\n",
       "      <td>2</td>\n",
       "      <td>5</td>\n",
       "      <td>6</td>\n",
       "      <td>0.70</td>\n",
       "      <td>2.90</td>\n",
       "      <td>1190</td>\n",
       "      <td>720</td>\n",
       "      <td>0.0</td>\n",
       "      <td>0.0</td>\n",
       "      <td>0.0</td>\n",
       "      <td>0.0</td>\n",
       "      <td>6</td>\n",
       "      <td>0.394722</td>\n",
       "      <td>0</td>\n",
       "      <td>0.0</td>\n",
       "      <td>0</td>\n",
       "    </tr>\n",
       "  </tbody>\n",
       "</table>\n",
       "<p>1197 rows × 17 columns</p>\n",
       "</div>"
      ],
      "text/plain": [
       "         date  quarter  day  team  targeted_productivity    smv   wip  \\\n",
       "0      112015        1    6     8                   0.80  26.16  1108   \n",
       "1      112015        1    6     1                   0.75   3.94  1190   \n",
       "2      112015        1    6    11                   0.80  11.41   968   \n",
       "3      112015        1    6    12                   0.80  11.41   968   \n",
       "4      112015        1    6     6                   0.80  25.90  1170   \n",
       "...       ...      ...  ...   ...                    ...    ...   ...   \n",
       "1192  3112015        2    5    10                   0.75   2.90  1190   \n",
       "1193  3112015        2    5     8                   0.70   3.90  1190   \n",
       "1194  3112015        2    5     7                   0.65   3.90  1190   \n",
       "1195  3112015        2    5     9                   0.75   2.90  1190   \n",
       "1196  3112015        2    5     6                   0.70   2.90  1190   \n",
       "\n",
       "      over_time  incentive  idle_time  idle_men  no_of_style_change  \\\n",
       "0          7080       63.0        0.0       0.0                 0.0   \n",
       "1           960        0.0        0.0       0.0                 0.0   \n",
       "2          3660       50.0        0.0       0.0                 0.0   \n",
       "3          3660       50.0        0.0       0.0                 0.0   \n",
       "4          1920       50.0        0.0       0.0                 0.0   \n",
       "...         ...        ...        ...       ...                 ...   \n",
       "1192        960        0.0        0.0       0.0                 0.0   \n",
       "1193        960        0.0        0.0       0.0                 0.0   \n",
       "1194        960        0.0        0.0       0.0                 0.0   \n",
       "1195       1800        0.0        0.0       0.0                 0.0   \n",
       "1196        720        0.0        0.0       0.0                 0.0   \n",
       "\n",
       "      no_of_workers  actual_productivity  department_finishing  \\\n",
       "0                59             0.940725                     0   \n",
       "1                 8             0.886500                     0   \n",
       "2                30             0.800570                     0   \n",
       "3                30             0.800570                     0   \n",
       "4                56             0.800382                     0   \n",
       "...             ...                  ...                   ...   \n",
       "1192              8             0.628333                     0   \n",
       "1193              8             0.625625                     0   \n",
       "1194              8             0.625625                     0   \n",
       "1195             15             0.505889                     0   \n",
       "1196              6             0.394722                     0   \n",
       "\n",
       "      department_finishing+  department_sweing  \n",
       "0                       0.0                  1  \n",
       "1                       0.0                  0  \n",
       "2                       0.0                  1  \n",
       "3                       0.0                  1  \n",
       "4                       0.0                  1  \n",
       "...                     ...                ...  \n",
       "1192                    0.0                  0  \n",
       "1193                    0.0                  0  \n",
       "1194                    0.0                  0  \n",
       "1195                    0.0                  0  \n",
       "1196                    0.0                  0  \n",
       "\n",
       "[1197 rows x 17 columns]"
      ]
     },
     "execution_count": 2584,
     "metadata": {},
     "output_type": "execute_result"
    }
   ],
   "source": [
    "dataSet"
   ]
  },
  {
   "cell_type": "code",
   "execution_count": 2585,
   "id": "b648147c",
   "metadata": {},
   "outputs": [],
   "source": [
    "column=dataSet['actual_productivity']"
   ]
  },
  {
   "cell_type": "code",
   "execution_count": 2586,
   "id": "79eeeb47",
   "metadata": {},
   "outputs": [],
   "source": [
    "dataSet=dataSet.drop(['actual_productivity'] ,axis=1)"
   ]
  },
  {
   "cell_type": "code",
   "execution_count": 2587,
   "id": "e32d5f34",
   "metadata": {},
   "outputs": [],
   "source": [
    "dataSet=pd.concat([dataSet,column] ,axis=1)"
   ]
  },
  {
   "cell_type": "code",
   "execution_count": 2647,
   "id": "447642d7",
   "metadata": {},
   "outputs": [],
   "source": [
    "x=dataSet.iloc[:,:16].values\n",
    "y=dataSet.iloc[:,16:17].values"
   ]
  },
  {
   "cell_type": "code",
   "execution_count": 2648,
   "id": "b711ae03",
   "metadata": {},
   "outputs": [],
   "source": [
    "from sklearn.preprocessing import StandardScaler\n",
    "scaler=StandardScaler()\n",
    "x=scaler.fit_transform(x)"
   ]
  },
  {
   "cell_type": "code",
   "execution_count": 2649,
   "id": "ae0848e1",
   "metadata": {},
   "outputs": [],
   "source": [
    "from sklearn.preprocessing import OneHotEncoder\n",
    "hot=OneHotEncoder()\n",
    "y=hot.fit_transform(y).toarray()"
   ]
  },
  {
   "cell_type": "code",
   "execution_count": 2685,
   "id": "388d214f",
   "metadata": {},
   "outputs": [],
   "source": [
    "from sklearn.model_selection import train_test_split\n",
    "x_train,x_test,y_train,y_test=train_test_split(x,y,test_size=0.20)"
   ]
  },
  {
   "cell_type": "code",
   "execution_count": 2686,
   "id": "73672d5a",
   "metadata": {},
   "outputs": [],
   "source": [
    "import tensorflow.python.keras\n",
    "from tensorflow.python.keras.models import Sequential\n",
    "from tensorflow.python.keras.layers import Dense\n",
    "\n",
    "model = Sequential() \n",
    "model.add(Dense(17,  input_dim=16, activation='relu'))\n",
    "model.add(Dense(8,  activation='relu'))\n",
    "model.add(Dense(1,  activation='softmax'))"
   ]
  },
  {
   "cell_type": "code",
   "execution_count": 2693,
   "id": "f2733d5c",
   "metadata": {},
   "outputs": [],
   "source": [
    "model.compile(loss='mean_squared_error' , optimizer='adam',metrics='accuracy')"
   ]
  },
  {
   "cell_type": "code",
   "execution_count": 2694,
   "id": "87395318",
   "metadata": {},
   "outputs": [
    {
     "name": "stdout",
     "output_type": "stream",
     "text": [
      "Epoch 1/100\n",
      "15/15 [==============================] - 0s 2ms/step - loss: 0.9989 - accuracy: 0.0011\n",
      "Epoch 2/100\n",
      "15/15 [==============================] - 0s 1ms/step - loss: 0.9989 - accuracy: 0.0011\n",
      "Epoch 3/100\n",
      "15/15 [==============================] - 0s 1ms/step - loss: 0.9989 - accuracy: 0.0011\n",
      "Epoch 4/100\n",
      "15/15 [==============================] - 0s 1ms/step - loss: 0.9989 - accuracy: 0.0011\n",
      "Epoch 5/100\n",
      "15/15 [==============================] - 0s 1ms/step - loss: 0.9989 - accuracy: 0.0011\n",
      "Epoch 6/100\n",
      "15/15 [==============================] - 0s 1ms/step - loss: 0.9989 - accuracy: 0.0011\n",
      "Epoch 7/100\n",
      "15/15 [==============================] - 0s 1ms/step - loss: 0.9989 - accuracy: 0.0011\n",
      "Epoch 8/100\n",
      "15/15 [==============================] - 0s 997us/step - loss: 0.9989 - accuracy: 0.0011\n",
      "Epoch 9/100\n",
      "15/15 [==============================] - 0s 1ms/step - loss: 0.9989 - accuracy: 0.0011\n",
      "Epoch 10/100\n",
      "15/15 [==============================] - 0s 1ms/step - loss: 0.9989 - accuracy: 0.0011\n",
      "Epoch 11/100\n",
      "15/15 [==============================] - 0s 1ms/step - loss: 0.9989 - accuracy: 0.0011\n",
      "Epoch 12/100\n",
      "15/15 [==============================] - 0s 1ms/step - loss: 0.9989 - accuracy: 0.0011\n",
      "Epoch 13/100\n",
      "15/15 [==============================] - 0s 1ms/step - loss: 0.9989 - accuracy: 0.0011\n",
      "Epoch 14/100\n",
      "15/15 [==============================] - 0s 1ms/step - loss: 0.9989 - accuracy: 0.0011\n",
      "Epoch 15/100\n",
      "15/15 [==============================] - 0s 1ms/step - loss: 0.9989 - accuracy: 0.0011\n",
      "Epoch 16/100\n",
      "15/15 [==============================] - 0s 1ms/step - loss: 0.9989 - accuracy: 0.0011\n",
      "Epoch 17/100\n",
      "15/15 [==============================] - 0s 1ms/step - loss: 0.9989 - accuracy: 0.0011\n",
      "Epoch 18/100\n",
      "15/15 [==============================] - 0s 1ms/step - loss: 0.9989 - accuracy: 0.0011\n",
      "Epoch 19/100\n",
      "15/15 [==============================] - 0s 1ms/step - loss: 0.9989 - accuracy: 0.0011\n",
      "Epoch 20/100\n",
      "15/15 [==============================] - 0s 1ms/step - loss: 0.9989 - accuracy: 0.0011\n",
      "Epoch 21/100\n",
      "15/15 [==============================] - 0s 1ms/step - loss: 0.9989 - accuracy: 0.0011\n",
      "Epoch 22/100\n",
      "15/15 [==============================] - 0s 1ms/step - loss: 0.9989 - accuracy: 0.0011\n",
      "Epoch 23/100\n",
      "15/15 [==============================] - 0s 1ms/step - loss: 0.9989 - accuracy: 0.0011\n",
      "Epoch 24/100\n",
      "15/15 [==============================] - 0s 1ms/step - loss: 0.9989 - accuracy: 0.0011\n",
      "Epoch 25/100\n",
      "15/15 [==============================] - 0s 1ms/step - loss: 0.9989 - accuracy: 0.0011\n",
      "Epoch 26/100\n",
      "15/15 [==============================] - 0s 1ms/step - loss: 0.9989 - accuracy: 0.0011\n",
      "Epoch 27/100\n",
      "15/15 [==============================] - 0s 1ms/step - loss: 0.9989 - accuracy: 0.0011\n",
      "Epoch 28/100\n",
      "15/15 [==============================] - 0s 1ms/step - loss: 0.9989 - accuracy: 0.0011\n",
      "Epoch 29/100\n",
      "15/15 [==============================] - 0s 1ms/step - loss: 0.9989 - accuracy: 0.0011\n",
      "Epoch 30/100\n",
      "15/15 [==============================] - 0s 1ms/step - loss: 0.9989 - accuracy: 0.0011\n",
      "Epoch 31/100\n",
      "15/15 [==============================] - 0s 1ms/step - loss: 0.9989 - accuracy: 0.0011\n",
      "Epoch 32/100\n",
      "15/15 [==============================] - 0s 1ms/step - loss: 0.9989 - accuracy: 0.0011\n",
      "Epoch 33/100\n",
      "15/15 [==============================] - 0s 1ms/step - loss: 0.9989 - accuracy: 0.0011\n",
      "Epoch 34/100\n",
      "15/15 [==============================] - 0s 1ms/step - loss: 0.9989 - accuracy: 0.0011\n",
      "Epoch 35/100\n",
      "15/15 [==============================] - 0s 1ms/step - loss: 0.9989 - accuracy: 0.0011\n",
      "Epoch 36/100\n",
      "15/15 [==============================] - 0s 1ms/step - loss: 0.9989 - accuracy: 0.0011\n",
      "Epoch 37/100\n",
      "15/15 [==============================] - 0s 1ms/step - loss: 0.9989 - accuracy: 0.0011\n",
      "Epoch 38/100\n",
      "15/15 [==============================] - 0s 1ms/step - loss: 0.9989 - accuracy: 0.0011\n",
      "Epoch 39/100\n",
      "15/15 [==============================] - 0s 1ms/step - loss: 0.9989 - accuracy: 0.0011\n",
      "Epoch 40/100\n",
      "15/15 [==============================] - 0s 1ms/step - loss: 0.9989 - accuracy: 0.0011\n",
      "Epoch 41/100\n",
      "15/15 [==============================] - 0s 1ms/step - loss: 0.9989 - accuracy: 0.0011\n",
      "Epoch 42/100\n",
      "15/15 [==============================] - 0s 1ms/step - loss: 0.9989 - accuracy: 0.0011\n",
      "Epoch 43/100\n",
      "15/15 [==============================] - 0s 1ms/step - loss: 0.9989 - accuracy: 0.0011\n",
      "Epoch 44/100\n",
      "15/15 [==============================] - 0s 1ms/step - loss: 0.9989 - accuracy: 0.0011\n",
      "Epoch 45/100\n",
      "15/15 [==============================] - 0s 1ms/step - loss: 0.9989 - accuracy: 0.0011\n",
      "Epoch 46/100\n",
      "15/15 [==============================] - 0s 1ms/step - loss: 0.9989 - accuracy: 0.0011\n",
      "Epoch 47/100\n",
      "15/15 [==============================] - 0s 1ms/step - loss: 0.9989 - accuracy: 0.0011\n",
      "Epoch 48/100\n",
      "15/15 [==============================] - 0s 1ms/step - loss: 0.9989 - accuracy: 0.0011\n",
      "Epoch 49/100\n",
      "15/15 [==============================] - 0s 1ms/step - loss: 0.9989 - accuracy: 0.0011\n",
      "Epoch 50/100\n",
      "15/15 [==============================] - 0s 1000us/step - loss: 0.9989 - accuracy: 0.0011\n",
      "Epoch 51/100\n",
      "15/15 [==============================] - 0s 1ms/step - loss: 0.9989 - accuracy: 0.0011\n",
      "Epoch 52/100\n",
      "15/15 [==============================] - 0s 1ms/step - loss: 0.9989 - accuracy: 0.0011\n",
      "Epoch 53/100\n",
      "15/15 [==============================] - 0s 1ms/step - loss: 0.9989 - accuracy: 0.0011\n",
      "Epoch 54/100\n",
      "15/15 [==============================] - 0s 1ms/step - loss: 0.9989 - accuracy: 0.0011\n",
      "Epoch 55/100\n",
      "15/15 [==============================] - 0s 1ms/step - loss: 0.9989 - accuracy: 0.0011\n",
      "Epoch 56/100\n",
      "15/15 [==============================] - 0s 1ms/step - loss: 0.9989 - accuracy: 0.0011\n",
      "Epoch 57/100\n",
      "15/15 [==============================] - 0s 1ms/step - loss: 0.9989 - accuracy: 0.0011\n",
      "Epoch 58/100\n",
      "15/15 [==============================] - 0s 1ms/step - loss: 0.9989 - accuracy: 0.0011\n",
      "Epoch 59/100\n",
      "15/15 [==============================] - 0s 1ms/step - loss: 0.9989 - accuracy: 0.0011\n",
      "Epoch 60/100\n",
      "15/15 [==============================] - 0s 1ms/step - loss: 0.9989 - accuracy: 0.0011\n",
      "Epoch 61/100\n",
      "15/15 [==============================] - ETA: 0s - loss: 0.9989 - accuracy: 0.00 - 0s 1ms/step - loss: 0.9989 - accuracy: 0.0011\n",
      "Epoch 62/100\n",
      "15/15 [==============================] - 0s 1ms/step - loss: 0.9989 - accuracy: 0.0011\n",
      "Epoch 63/100\n",
      "15/15 [==============================] - 0s 1ms/step - loss: 0.9989 - accuracy: 0.0011\n",
      "Epoch 64/100\n",
      "15/15 [==============================] - 0s 1ms/step - loss: 0.9989 - accuracy: 0.0011\n",
      "Epoch 65/100\n",
      "15/15 [==============================] - 0s 1ms/step - loss: 0.9989 - accuracy: 0.0011\n",
      "Epoch 66/100\n",
      "15/15 [==============================] - 0s 1ms/step - loss: 0.9989 - accuracy: 0.0011\n",
      "Epoch 67/100\n",
      "15/15 [==============================] - 0s 1ms/step - loss: 0.9989 - accuracy: 0.0011\n",
      "Epoch 68/100\n",
      "15/15 [==============================] - 0s 1ms/step - loss: 0.9989 - accuracy: 0.0011\n",
      "Epoch 69/100\n",
      "15/15 [==============================] - 0s 1ms/step - loss: 0.9989 - accuracy: 0.0011\n",
      "Epoch 70/100\n",
      "15/15 [==============================] - 0s 1ms/step - loss: 0.9989 - accuracy: 0.0011\n",
      "Epoch 71/100\n",
      "15/15 [==============================] - 0s 1ms/step - loss: 0.9989 - accuracy: 0.0011\n",
      "Epoch 72/100\n",
      "15/15 [==============================] - 0s 1ms/step - loss: 0.9989 - accuracy: 0.0011\n",
      "Epoch 73/100\n",
      "15/15 [==============================] - 0s 1ms/step - loss: 0.9989 - accuracy: 0.0011\n",
      "Epoch 74/100\n",
      "15/15 [==============================] - 0s 1ms/step - loss: 0.9989 - accuracy: 0.0011\n",
      "Epoch 75/100\n",
      "15/15 [==============================] - 0s 1ms/step - loss: 0.9989 - accuracy: 0.0011\n",
      "Epoch 76/100\n",
      "15/15 [==============================] - 0s 1ms/step - loss: 0.9989 - accuracy: 0.0011\n",
      "Epoch 77/100\n",
      "15/15 [==============================] - 0s 997us/step - loss: 0.9989 - accuracy: 0.0011\n",
      "Epoch 78/100\n",
      "15/15 [==============================] - 0s 1ms/step - loss: 0.9989 - accuracy: 0.0011\n",
      "Epoch 79/100\n",
      "15/15 [==============================] - 0s 1ms/step - loss: 0.9989 - accuracy: 0.0011\n",
      "Epoch 80/100\n",
      "15/15 [==============================] - 0s 1ms/step - loss: 0.9989 - accuracy: 0.0011\n",
      "Epoch 81/100\n",
      "15/15 [==============================] - 0s 1ms/step - loss: 0.9989 - accuracy: 0.0011\n",
      "Epoch 82/100\n"
     ]
    },
    {
     "name": "stdout",
     "output_type": "stream",
     "text": [
      "15/15 [==============================] - 0s 1ms/step - loss: 0.9989 - accuracy: 0.0011\n",
      "Epoch 83/100\n",
      "15/15 [==============================] - 0s 1ms/step - loss: 0.9989 - accuracy: 0.0011\n",
      "Epoch 84/100\n",
      "15/15 [==============================] - 0s 1ms/step - loss: 0.9989 - accuracy: 0.0011\n",
      "Epoch 85/100\n",
      "15/15 [==============================] - 0s 1ms/step - loss: 0.9989 - accuracy: 0.0011\n",
      "Epoch 86/100\n",
      "15/15 [==============================] - 0s 1ms/step - loss: 0.9989 - accuracy: 0.0011\n",
      "Epoch 87/100\n",
      "15/15 [==============================] - 0s 1ms/step - loss: 0.9989 - accuracy: 0.0011\n",
      "Epoch 88/100\n",
      "15/15 [==============================] - 0s 998us/step - loss: 0.9989 - accuracy: 0.0011\n",
      "Epoch 89/100\n",
      "15/15 [==============================] - 0s 1ms/step - loss: 0.9989 - accuracy: 0.0011\n",
      "Epoch 90/100\n",
      "15/15 [==============================] - 0s 969us/step - loss: 0.9989 - accuracy: 0.0011\n",
      "Epoch 91/100\n",
      "15/15 [==============================] - 0s 955us/step - loss: 0.9989 - accuracy: 0.0011\n",
      "Epoch 92/100\n",
      "15/15 [==============================] - 0s 1ms/step - loss: 0.9989 - accuracy: 0.0011\n",
      "Epoch 93/100\n",
      "15/15 [==============================] - 0s 1ms/step - loss: 0.9989 - accuracy: 0.0011\n",
      "Epoch 94/100\n",
      "15/15 [==============================] - 0s 1ms/step - loss: 0.9989 - accuracy: 0.0011\n",
      "Epoch 95/100\n",
      "15/15 [==============================] - 0s 992us/step - loss: 0.9989 - accuracy: 0.0011\n",
      "Epoch 96/100\n",
      "15/15 [==============================] - 0s 1ms/step - loss: 0.9989 - accuracy: 0.0011\n",
      "Epoch 97/100\n",
      "15/15 [==============================] - 0s 1ms/step - loss: 0.9989 - accuracy: 0.0011\n",
      "Epoch 98/100\n",
      "15/15 [==============================] - 0s 1ms/step - loss: 0.9989 - accuracy: 0.0011\n",
      "Epoch 99/100\n",
      "15/15 [==============================] - 0s 1ms/step - loss: 0.9989 - accuracy: 0.0011\n",
      "Epoch 100/100\n",
      "15/15 [==============================] - 0s 1ms/step - loss: 0.9989 - accuracy: 0.0011\n"
     ]
    }
   ],
   "source": [
    "history = model.fit(x_train,y_train , epochs=100 , batch_size=64)"
   ]
  },
  {
   "cell_type": "code",
   "execution_count": 2689,
   "id": "d0636986",
   "metadata": {},
   "outputs": [],
   "source": [
    "y_pred=model.predict(x_test)\n",
    "pred = list() \n",
    "for i in range (len(y_pred)):\n",
    "  pred.append(np.argmax(y_pred[i]))\n",
    "  test = list() \n",
    "for i in range (len(y_test)): \n",
    "  test.append(np.argmax(y_test[i]))"
   ]
  },
  {
   "cell_type": "code",
   "execution_count": 2690,
   "id": "08d5eac8",
   "metadata": {},
   "outputs": [
    {
     "name": "stdout",
     "output_type": "stream",
     "text": [
      "accuracy is: 0.0\n"
     ]
    }
   ],
   "source": [
    "from sklearn.metrics import accuracy_score\n",
    "a= accuracy_score(pred,test)\n",
    "print('accuracy is:', a*100 ) "
   ]
  },
  {
   "cell_type": "code",
   "execution_count": 2666,
   "id": "34b78add",
   "metadata": {},
   "outputs": [
    {
     "name": "stdout",
     "output_type": "stream",
     "text": [
      "<class 'pandas.core.frame.DataFrame'>\n",
      "RangeIndex: 1197 entries, 0 to 1196\n",
      "Data columns (total 17 columns):\n",
      " #   Column                 Non-Null Count  Dtype  \n",
      "---  ------                 --------------  -----  \n",
      " 0   date                   1197 non-null   int32  \n",
      " 1   quarter                1197 non-null   int64  \n",
      " 2   day                    1197 non-null   int64  \n",
      " 3   team                   1197 non-null   int64  \n",
      " 4   targeted_productivity  1197 non-null   float64\n",
      " 5   smv                    1197 non-null   float64\n",
      " 6   wip                    1197 non-null   int32  \n",
      " 7   over_time              1197 non-null   int64  \n",
      " 8   incentive              1197 non-null   float64\n",
      " 9   idle_time              1197 non-null   float64\n",
      " 10  idle_men               1197 non-null   float64\n",
      " 11  no_of_style_change     1197 non-null   float64\n",
      " 12  no_of_workers          1197 non-null   int32  \n",
      " 13  department_finishing   1197 non-null   int64  \n",
      " 14  department_finishing+  1197 non-null   float64\n",
      " 15  department_sweing      1197 non-null   uint8  \n",
      " 16  actual_productivity    1197 non-null   float64\n",
      "dtypes: float64(8), int32(3), int64(5), uint8(1)\n",
      "memory usage: 136.9 KB\n"
     ]
    }
   ],
   "source": [
    "dataSet.info()"
   ]
  },
  {
   "cell_type": "code",
   "execution_count": 2691,
   "id": "0d1795f6",
   "metadata": {},
   "outputs": [],
   "source": [
    "from keras.models import load_model\n",
    "model.save('my_model.h5')\n",
    "del model\n",
    "model= load_model('my_model.h5')"
   ]
  },
  {
   "cell_type": "code",
   "execution_count": 2692,
   "id": "65331eac",
   "metadata": {},
   "outputs": [
    {
     "name": "stdout",
     "output_type": "stream",
     "text": [
      "<class 'pandas.core.frame.DataFrame'>\n",
      "RangeIndex: 1197 entries, 0 to 1196\n",
      "Data columns (total 17 columns):\n",
      " #   Column                 Non-Null Count  Dtype  \n",
      "---  ------                 --------------  -----  \n",
      " 0   date                   1197 non-null   int32  \n",
      " 1   quarter                1197 non-null   int64  \n",
      " 2   day                    1197 non-null   int64  \n",
      " 3   team                   1197 non-null   int64  \n",
      " 4   targeted_productivity  1197 non-null   float64\n",
      " 5   smv                    1197 non-null   float64\n",
      " 6   wip                    1197 non-null   int32  \n",
      " 7   over_time              1197 non-null   int64  \n",
      " 8   incentive              1197 non-null   float64\n",
      " 9   idle_time              1197 non-null   float64\n",
      " 10  idle_men               1197 non-null   float64\n",
      " 11  no_of_style_change     1197 non-null   float64\n",
      " 12  no_of_workers          1197 non-null   int32  \n",
      " 13  department_finishing   1197 non-null   int64  \n",
      " 14  department_finishing+  1197 non-null   float64\n",
      " 15  department_sweing      1197 non-null   uint8  \n",
      " 16  actual_productivity    1197 non-null   float64\n",
      "dtypes: float64(8), int32(3), int64(5), uint8(1)\n",
      "memory usage: 136.9 KB\n"
     ]
    }
   ],
   "source": [
    "dataSet.info()"
   ]
  },
  {
   "cell_type": "code",
   "execution_count": null,
   "id": "879b5587",
   "metadata": {},
   "outputs": [],
   "source": []
  }
 ],
 "metadata": {
  "kernelspec": {
   "display_name": "Python 3",
   "language": "python",
   "name": "python3"
  },
  "language_info": {
   "codemirror_mode": {
    "name": "ipython",
    "version": 3
   },
   "file_extension": ".py",
   "mimetype": "text/x-python",
   "name": "python",
   "nbconvert_exporter": "python",
   "pygments_lexer": "ipython3",
   "version": "3.8.8"
  }
 },
 "nbformat": 4,
 "nbformat_minor": 5
}
